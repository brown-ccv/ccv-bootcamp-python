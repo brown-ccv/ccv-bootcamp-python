{
 "cells": [
  {
   "cell_type": "markdown",
   "metadata": {
    "************New Notebook**********": "week_1/day_1_lecture.ipynb",
    "slideshow": {
     "slide_type": "slide"
    }
   },
   "source": [
    "# <center>Introduction to Python Programming</center>\n",
    "## <center>Instructors: August Guang and Ashok Ragavendran</center>\n",
    "### <center>Center for Computation and Visualization</center>\n",
    "### <center>Center for Computational Biology of Human Disease - Computational Biology Core</center>"
   ]
  },
  {
   "cell_type": "markdown",
   "metadata": {
    "slideshow": {
     "slide_type": "slide"
    }
   },
   "source": [
    "## <center>Overview of the workshop</center>\n",
    "Learning objectives\n",
    "- Understand basics of variables, lists, dictionaries, and arrays,\n",
    "- Understand the logic of control flow techniques such as if-then statements, for loops, and list comprehensions,\n",
    "- understand functions\n"
   ]
  },
  {
   "cell_type": "markdown",
   "metadata": {
    "slideshow": {
     "slide_type": "slide"
    }
   },
   "source": [
    "## <center>What is programming?</center>\n",
    "- You type instructions for the computer to perform.\n",
    "- The computer performs those instructions to the letter.\n",
    "- **Testing**: you make sure the computer does what you want it to do\n",
    "- **Debugging**: your instructions are inaccurate, so you fix them. :)\n",
    "- It is a language heavy with mathematical concepts that might seem  weird at first"
   ]
  },
  {
   "cell_type": "markdown",
   "metadata": {
    "slideshow": {
     "slide_type": "slide"
    }
   },
   "source": [
    "## <center>Coding is a language</center>\n",
    "- It is tough to learn a new language, be patient with yourself!\n",
    "- You learn to \"talk\" to a computer\n",
    "   - it's tough because the computer is unforgiving\n",
    "   - it's easy because you'll know if your code is correct or not - feedback through testing\n",
    "- Don't expect to be 'fluent' by the end of this workshop."
   ]
  },
  {
   "cell_type": "markdown",
   "metadata": {
    "slideshow": {
     "slide_type": "slide"
    }
   },
   "source": [
    "## <center>The language analogy</center>\n",
    "- variables are the letters\n",
    "- containers are the words\n",
    "- control flow is grammar\n",
    "- functions are sentences"
   ]
  },
  {
   "cell_type": "markdown",
   "metadata": {
    "slideshow": {
     "slide_type": "slide"
    }
   },
   "source": [
    "## <center>What is programming good for?</center>\n",
    "### <center>AUTOMATION!</center>\n",
    "\n",
    "#### Computer is explicitly programmed how to perform a task.\n",
    "- Manipulate data,\n",
    "- Automatically download files and text from websites,\n",
    "- Perform any task with excel spreadsheets.\n"
   ]
  },
  {
   "cell_type": "markdown",
   "metadata": {
    "slideshow": {
     "slide_type": "slide"
    }
   },
   "source": [
    "# <center> Python as a calculator </center>"
   ]
  },
  {
   "cell_type": "code",
   "execution_count": 4,
   "metadata": {},
   "outputs": [
    {
     "data": {
      "text/plain": [
       "2.3529411764705883"
      ]
     },
     "execution_count": 4,
     "metadata": {},
     "output_type": "execute_result"
    }
   ],
   "source": [
    "12/5.1"
   ]
  },
  {
   "cell_type": "markdown",
   "metadata": {
    "slideshow": {
     "slide_type": "slide"
    }
   },
   "source": [
    "# <center> Variables - Overview</center>\n",
    "- Data is represented as numbers, strings, or boolean variables.\n",
    "    - Variables store a value but it can be changed/updated by the program\n",
    "- Numbers can be integers (whole numbers) or floats/doubles (numbers with decimal points).\n",
    "- Boolean variables can have only two values: True or False.\n",
    "- Strings are a sequence of characters within quotation marks.\n"
   ]
  },
  {
   "cell_type": "markdown",
   "metadata": {
    "slideshow": {
     "slide_type": "slide"
    }
   },
   "source": [
    "# <center> Numbers </center>"
   ]
  },
  {
   "cell_type": "code",
   "execution_count": 5,
   "metadata": {
    "slideshow": {
     "slide_type": "-"
    }
   },
   "outputs": [
    {
     "name": "stdout",
     "output_type": "stream",
     "text": [
      "<class 'int'>\n",
      "<class 'int'>\n",
      "<class 'float'>\n",
      "<class 'float'>\n"
     ]
    }
   ],
   "source": [
    "# variables store values that we can work with and modify it later.\n",
    "# variable names can be arbitrary\n",
    "# assign value to variables\n",
    "a_int = 5\n",
    "b_int = 8\n",
    "c_flt = 1.6\n",
    "d_flt = 5.2\n",
    "\n",
    "# to check the type of a variable:\n",
    "print(type(a_int)) # use parentheses for type and print\n",
    "print(type(b_int))\n",
    "print(type(c_flt))\n",
    "print(type(d_flt))"
   ]
  },
  {
   "cell_type": "markdown",
   "metadata": {
    "slideshow": {
     "slide_type": "subslide"
    }
   },
   "source": [
    "### Let's work with the variables and create new ones"
   ]
  },
  {
   "cell_type": "code",
   "execution_count": 7,
   "metadata": {
    "slideshow": {
     "slide_type": "-"
    }
   },
   "outputs": [
    {
     "name": "stdout",
     "output_type": "stream",
     "text": [
      "13\n",
      "8.0\n",
      "<class 'float'>\n",
      "8.0\n"
     ]
    }
   ],
   "source": [
    "a_int = 5\n",
    "b_int = 8\n",
    "c_flt = 1.6\n",
    "d_flt = 5.2\n",
    "\n",
    "# print the sum of two numbers\n",
    "print(a_int+b_int)\n",
    "# print the product of two numbers\n",
    "print(a_int*c_flt)\n",
    "# what is the type of this new variable?\n",
    "print(type(a_int*c_flt))\n",
    "# create a new varible!\n",
    "e_flt = a_int*c_flt\n",
    "print(e_flt)"
   ]
  },
  {
   "cell_type": "code",
   "execution_count": 9,
   "metadata": {
    "slideshow": {
     "slide_type": "subslide"
    }
   },
   "outputs": [
    {
     "name": "stdout",
     "output_type": "stream",
     "text": [
      "<class 'float'>\n",
      "-2.8\n",
      "<class 'int'>\n",
      "40\n"
     ]
    }
   ],
   "source": [
    "# create a new variable and equate it to the difference of two numbers\n",
    "print(type(d_flt - b_int))\n",
    "f_flt = d_flt - b_int\n",
    "print(f_flt)\n",
    "# multiply two numbers and store the value in a new variable\n",
    "print(type(b_int*a_int))\n",
    "g_int = b_int*a_int\n",
    "print(g_int) "
   ]
  },
  {
   "cell_type": "markdown",
   "metadata": {
    "slideshow": {
     "slide_type": "subslide"
    }
   },
   "source": [
    "### Change the value of a variable"
   ]
  },
  {
   "cell_type": "code",
   "execution_count": 15,
   "metadata": {
    "slideshow": {
     "slide_type": "-"
    }
   },
   "outputs": [
    {
     "name": "stdout",
     "output_type": "stream",
     "text": [
      "15\n",
      "17\n"
     ]
    }
   ],
   "source": [
    "# let's add 2 to a_int\n",
    "print(a_int)\n",
    "a_int = a_int + 2\n",
    "print(a_int)\n",
    "# be careful! if you rerun this cell, a_int will keep increasing by 2."
   ]
  },
  {
   "cell_type": "code",
   "execution_count": 19,
   "metadata": {
    "slideshow": {
     "slide_type": "subslide"
    }
   },
   "outputs": [
    {
     "name": "stdout",
     "output_type": "stream",
     "text": [
      "12.0\n",
      "<class 'float'>\n",
      "<class 'int'>\n",
      "<class 'float'>\n"
     ]
    }
   ],
   "source": [
    "# let's multiply b_int with 1.5\n",
    "# what's the type of the new variable? \n",
    "# Should we store this value in b_int?\n",
    "b_int = 8\n",
    "print(b_int*1.5)\n",
    "print(type(b_int*1.5))\n",
    "print(type(b_int))\n",
    "b_flt = b_int*1.5 # NOT CORRECT!\n",
    "print(type(b_flt))\n"
   ]
  },
  {
   "cell_type": "markdown",
   "metadata": {
    "slideshow": {
     "slide_type": "slide"
    }
   },
   "source": [
    "# <center> Boolean variables</center>"
   ]
  },
  {
   "cell_type": "code",
   "execution_count": 32,
   "metadata": {},
   "outputs": [
    {
     "name": "stdout",
     "output_type": "stream",
     "text": [
      "True False\n",
      "<class 'bool'>\n"
     ]
    }
   ],
   "source": [
    "# create a boolean variable\n",
    "var1_bool = True\n",
    "var2_bool = False\n",
    "print(var1_bool, var2_bool)\n",
    "print(type(var1_bool))"
   ]
  },
  {
   "cell_type": "markdown",
   "metadata": {
    "slideshow": {
     "slide_type": "subslide"
    }
   },
   "source": [
    "### Compare variables"
   ]
  },
  {
   "cell_type": "code",
   "execution_count": 33,
   "metadata": {},
   "outputs": [
    {
     "name": "stdout",
     "output_type": "stream",
     "text": [
      "True\n",
      "False\n",
      "True\n"
     ]
    }
   ],
   "source": [
    "a_int = 5\n",
    "b_int = 8\n",
    "c_flt = 1.6\n",
    "d_flt = 5.0\n",
    "c1_bool = c_flt < b_int\n",
    "c2_bool = a_int > b_int\n",
    "c3_bool = a_int == d_flt\n",
    "print(c1_bool)\n",
    "print(c2_bool)\n",
    "print(c3_bool)"
   ]
  },
  {
   "cell_type": "code",
   "execution_count": 21,
   "metadata": {
    "slideshow": {
     "slide_type": "subslide"
    }
   },
   "outputs": [
    {
     "name": "stdout",
     "output_type": "stream",
     "text": [
      "False\n",
      "True\n"
     ]
    }
   ],
   "source": [
    "a_int = 5\n",
    "b_int = 8\n",
    "c_flt = 1.6\n",
    "d_flt = 5.0\n",
    "# is b_int+c_flt larger than a_int+d_flt?\n",
    "compvars1_bool = b_int+c_flt > a_int+d_flt\n",
    "# is c_flt-a_int smaller than b_int-d_flt?\n",
    "compvars2_bool = c_flt-a_int < b_int-d_flt\n",
    "print(compvars1_bool)\n",
    "print(compvars2_bool)"
   ]
  },
  {
   "cell_type": "markdown",
   "metadata": {
    "slideshow": {
     "slide_type": "subslide"
    }
   },
   "source": [
    "### check variable type"
   ]
  },
  {
   "cell_type": "code",
   "execution_count": 23,
   "metadata": {
    "slideshow": {
     "slide_type": "-"
    }
   },
   "outputs": [
    {
     "name": "stdout",
     "output_type": "stream",
     "text": [
      "False\n",
      "True\n",
      "True\n"
     ]
    }
   ],
   "source": [
    "# is the type of a_int and c_flt the same?\n",
    "comptypes1_bool = type(a_int) == type(c_flt)\n",
    "print(comptypes1_bool)\n",
    "\n",
    "# is a_int of type int?\n",
    "type_a_bool = type(a_int) == int\n",
    "print(type_a_bool)\n",
    "\n",
    "# is d_flt really a float?\n",
    "type_d_bool = type(d_flt) == float\n",
    "print(type_d_bool)"
   ]
  },
  {
   "cell_type": "markdown",
   "metadata": {
    "slideshow": {
     "slide_type": "slide"
    }
   },
   "source": [
    "# <center> String Variables </center>\n",
    "- Describe and create characters and strings\n",
    "- Index strings\n",
    "- Use string operations\n",
    "- Describe special characters\n",
    "- Convert strings to numbers and numbers to strings"
   ]
  },
  {
   "cell_type": "markdown",
   "metadata": {
    "slideshow": {
     "slide_type": "slide"
    }
   },
   "source": [
    "# <center> Strings and Characters </center>"
   ]
  },
  {
   "cell_type": "code",
   "execution_count": null,
   "metadata": {
    "slideshow": {
     "slide_type": "subslide"
    }
   },
   "outputs": [],
   "source": [
    "short_str = \"string\"\n",
    "longer_str = 'This is my first string!'\n",
    "\n",
    "print(short_str)\n",
    "print(longer_str) "
   ]
  },
  {
   "cell_type": "code",
   "execution_count": null,
   "metadata": {
    "slideshow": {
     "slide_type": "subslide"
    }
   },
   "outputs": [],
   "source": [
    "# beware of apostrophe in strings!\n",
    "\n",
    "# NOT VALID\n",
    "print('There's my first string!')\n",
    "\n",
    "# VALID\n",
    "print(\"There's my first string!\")"
   ]
  },
  {
   "cell_type": "markdown",
   "metadata": {
    "slideshow": {
     "slide_type": "slide"
    }
   },
   "source": [
    "- <font color='LIGHTGRAY'> Describe and create characters and strings </font>\n",
    "- Index strings\n",
    "- <font color='LIGHTGRAY'>Use string operations </font>\n",
    "- <font color='LIGHTGRAY'>Describe special characters </font>\n",
    "- <font color='LIGHTGRAY'>Convert strings to numbers and numbers to strings </font>"
   ]
  },
  {
   "cell_type": "markdown",
   "metadata": {
    "slideshow": {
     "slide_type": "subslide"
    }
   },
   "source": [
    "# <center> String indexing </center>\n",
    "\n",
    "### <center> string[*starting index* : *stopping index* : *step size*] </center>\n",
    "\n",
    "#### Default Values:\n",
    "* start = beginning of string\n",
    "* stop = end of string\n",
    "* step = 1\n"
   ]
  },
  {
   "cell_type": "code",
   "execution_count": null,
   "metadata": {
    "slideshow": {
     "slide_type": "subslide"
    }
   },
   "outputs": [],
   "source": [
    "my_name_str = 'Abraham Lincoln'\n",
    "\n",
    "# indexing one character\n",
    "print(my_name_str[0])\n",
    "print(my_name_str[1])\n",
    "print(my_name_str[-3])"
   ]
  },
  {
   "cell_type": "code",
   "execution_count": null,
   "metadata": {
    "slideshow": {
     "slide_type": "subslide"
    }
   },
   "outputs": [],
   "source": [
    "# indexing a range of characters\n",
    "print(my_name_str[0:3]) # stop index is not included"
   ]
  },
  {
   "cell_type": "code",
   "execution_count": null,
   "metadata": {
    "slideshow": {
     "slide_type": "fragment"
    }
   },
   "outputs": [],
   "source": [
    "print(my_name_str[3:])"
   ]
  },
  {
   "cell_type": "code",
   "execution_count": null,
   "metadata": {
    "slideshow": {
     "slide_type": "fragment"
    }
   },
   "outputs": [],
   "source": [
    "print(my_name_str[:6]) "
   ]
  },
  {
   "cell_type": "code",
   "execution_count": null,
   "metadata": {
    "slideshow": {
     "slide_type": "subslide"
    }
   },
   "outputs": [],
   "source": [
    "# indexing a range of characters with a step\n",
    "print(my_name_str[::2])"
   ]
  },
  {
   "cell_type": "code",
   "execution_count": null,
   "metadata": {
    "slideshow": {
     "slide_type": "fragment"
    }
   },
   "outputs": [],
   "source": [
    "print(my_name_str[1::3]) "
   ]
  },
  {
   "cell_type": "code",
   "execution_count": null,
   "metadata": {
    "slideshow": {
     "slide_type": "fragment"
    }
   },
   "outputs": [],
   "source": [
    "print(my_name_str[::]) # default step size = 1"
   ]
  },
  {
   "cell_type": "code",
   "execution_count": null,
   "metadata": {
    "slideshow": {
     "slide_type": "subslide"
    }
   },
   "outputs": [],
   "source": [
    "# backwards indexing\n",
    "print(my_name_str[::-1])"
   ]
  },
  {
   "cell_type": "markdown",
   "metadata": {
    "slideshow": {
     "slide_type": "slide"
    }
   },
   "source": [
    "- <font color='LIGHTGRAY'> Describe and create characters and strings </font>\n",
    "- <font color='LIGHTGRAY'>Index strings </font>\n",
    "- Use string operations\n",
    "- <font color='LIGHTGRAY'>Describe special characters </font>\n",
    "- <font color='LIGHTGRAY'>Convert strings to numbers and numbers to strings </font>"
   ]
  },
  {
   "cell_type": "markdown",
   "metadata": {
    "slideshow": {
     "slide_type": "subslide"
    }
   },
   "source": [
    "# <center> Useful string operations </center>"
   ]
  },
  {
   "cell_type": "code",
   "execution_count": null,
   "metadata": {
    "slideshow": {
     "slide_type": "subslide"
    }
   },
   "outputs": [],
   "source": [
    "# combine strings\n",
    "first_name_str = 'Audre'\n",
    "second_name_str = 'Lorde'\n",
    "full_name_str = first_name_str + second_name_str\n",
    "print(full_name_str)"
   ]
  },
  {
   "cell_type": "code",
   "execution_count": null,
   "metadata": {
    "slideshow": {
     "slide_type": "subslide"
    }
   },
   "outputs": [],
   "source": [
    "space_name_str = first_name_str + \" \" + second_name_str\n",
    "print(space_name_str)"
   ]
  },
  {
   "cell_type": "code",
   "execution_count": null,
   "metadata": {
    "slideshow": {
     "slide_type": "subslide"
    }
   },
   "outputs": [],
   "source": [
    "# repeat strings\n",
    "laugh_str = 'ha'\n",
    "print(laugh_str*3)"
   ]
  },
  {
   "cell_type": "code",
   "execution_count": null,
   "metadata": {
    "slideshow": {
     "slide_type": "subslide"
    }
   },
   "outputs": [],
   "source": [
    "# split strings\n",
    "print(space_name_str)"
   ]
  },
  {
   "cell_type": "code",
   "execution_count": null,
   "metadata": {
    "slideshow": {
     "slide_type": "fragment"
    }
   },
   "outputs": [],
   "source": [
    "# split on space\n",
    "print(space_name_str.split())\n",
    "print(space_name_str.split(' '))"
   ]
  },
  {
   "cell_type": "code",
   "execution_count": null,
   "metadata": {
    "slideshow": {
     "slide_type": "fragment"
    }
   },
   "outputs": [],
   "source": [
    "# split on another character\n",
    "print(space_name_str.split('l'))"
   ]
  },
  {
   "cell_type": "code",
   "execution_count": null,
   "metadata": {
    "slideshow": {
     "slide_type": "subslide"
    }
   },
   "outputs": [],
   "source": [
    "# check if characters are in string\n",
    "full_name_str = 'August Guang'\n",
    "chars = 'ash'\n",
    "check_bool = chars in full_name_str\n",
    "print(check_bool)"
   ]
  },
  {
   "cell_type": "code",
   "execution_count": null,
   "metadata": {
    "slideshow": {
     "slide_type": "subslide"
    }
   },
   "outputs": [],
   "source": [
    "chars = 'Ash'\n",
    "check_bool = chars in full_name_str\n",
    "print(check_bool)"
   ]
  },
  {
   "cell_type": "code",
   "execution_count": null,
   "metadata": {
    "slideshow": {
     "slide_type": "subslide"
    }
   },
   "outputs": [],
   "source": [
    "# find - returns the first occurrence of a character\n",
    "print(full_name_str)\n",
    "print(full_name_str.find('e'))"
   ]
  },
  {
   "cell_type": "markdown",
   "metadata": {
    "slideshow": {
     "slide_type": "slide"
    }
   },
   "source": [
    "# <center> Special String Characters </center>"
   ]
  },
  {
   "cell_type": "code",
   "execution_count": null,
   "metadata": {
    "slideshow": {
     "slide_type": "subslide"
    }
   },
   "outputs": [],
   "source": [
    "print('first line \\n second line')"
   ]
  },
  {
   "cell_type": "code",
   "execution_count": null,
   "metadata": {
    "slideshow": {
     "slide_type": "subslide"
    }
   },
   "outputs": [],
   "source": [
    "print('first line \\\\n second line')"
   ]
  },
  {
   "cell_type": "markdown",
   "metadata": {
    "slideshow": {
     "slide_type": "subslide"
    }
   },
   "source": [
    "## Casting between types"
   ]
  },
  {
   "cell_type": "code",
   "execution_count": null,
   "metadata": {
    "slideshow": {
     "slide_type": "-"
    }
   },
   "outputs": [],
   "source": [
    "print(9 + 5)"
   ]
  },
  {
   "cell_type": "code",
   "execution_count": null,
   "metadata": {
    "slideshow": {
     "slide_type": "-"
    }
   },
   "outputs": [],
   "source": [
    "print('9' + '5')"
   ]
  },
  {
   "cell_type": "code",
   "execution_count": null,
   "metadata": {
    "slideshow": {
     "slide_type": "-"
    }
   },
   "outputs": [],
   "source": [
    "print('9' + 5)"
   ]
  },
  {
   "cell_type": "code",
   "execution_count": null,
   "metadata": {
    "slideshow": {
     "slide_type": "subslide"
    }
   },
   "outputs": [],
   "source": [
    "print(str(9))\n",
    "print(type(str(9)))\n",
    "\n",
    "print(int('9'))\n",
    "print(type(int('9')))"
   ]
  },
  {
   "cell_type": "code",
   "execution_count": null,
   "metadata": {
    "slideshow": {
     "slide_type": "-"
    }
   },
   "outputs": [],
   "source": [
    "print(int('9') + 5)"
   ]
  },
  {
   "cell_type": "code",
   "execution_count": null,
   "metadata": {
    "slideshow": {
     "slide_type": "subslide"
    }
   },
   "outputs": [],
   "source": [
    "print(float('9.5'))\n",
    "print(type(float('9.5')))"
   ]
  },
  {
   "cell_type": "code",
   "execution_count": null,
   "metadata": {
    "slideshow": {
     "slide_type": "-"
    }
   },
   "outputs": [],
   "source": [
    "int('a')"
   ]
  },
  {
   "cell_type": "markdown",
   "metadata": {
    "************New Notebook**********": "week_1/day_3_lists.ipynb",
    "slideshow": {
     "slide_type": "slide"
    }
   },
   "source": [
    "# Container Types - the 'words' of programing languages\n",
    "## Objectives\n",
    "- create lists and add elements in it\n",
    "- slice lists\n",
    "- modify lists\n",
    "- concatenate, sort, and replicate lists\n",
    "- better understand what str.split returns"
   ]
  },
  {
   "cell_type": "markdown",
   "metadata": {
    "slideshow": {
     "slide_type": "subslide"
    }
   },
   "source": [
    "- You never work with just variables.\n",
    "- Variables are collected into containers\n",
    "- Containers help to perform the same operation on an arbitrary number of variables easily\n",
    "- Your code uses a mix of variables and containers"
   ]
  },
  {
   "cell_type": "markdown",
   "metadata": {
    "slideshow": {
     "slide_type": "slide"
    }
   },
   "source": [
    "### <font color='LIGHTGRAY'>By the end of the day you'll be able to </font>\n",
    "- **create lists and add elements in it**\n",
    "- <font color='LIGHTGRAY'>slice lists</font>\n",
    "- <font color='LIGHTGRAY'>modify lists</font>\n",
    "- <font color='LIGHTGRAY'>concatenate, sort, and replicate lists</font>\n",
    "- <font color='LIGHTGRAY'>better understand what str.split returns</font>"
   ]
  },
  {
   "cell_type": "markdown",
   "metadata": {
    "slideshow": {
     "slide_type": "slide"
    }
   },
   "source": [
    "## The list Type\n",
    "- Can store arbitrary elements of any type\n",
    "- One of the most-often used objects in Python"
   ]
  },
  {
   "cell_type": "code",
   "execution_count": null,
   "metadata": {
    "slideshow": {
     "slide_type": "-"
    }
   },
   "outputs": [],
   "source": [
    "# create an empty list, follow the hungarian notation and end the container name with _lst\n",
    "foo_lst = []\n",
    "print(foo_lst)\n",
    "print(type(foo_lst))\n",
    "check_type_bool = type(foo_lst) == list\n",
    "print(check_type_bool)\n",
    "print(len(foo_lst)) # the length of the list, how many elements are in the list."
   ]
  },
  {
   "cell_type": "code",
   "execution_count": null,
   "metadata": {
    "slideshow": {
     "slide_type": "subslide"
    }
   },
   "outputs": [],
   "source": [
    "groceries_lst = [\"milk\", \"bread\", \"apples\", \"eggs\"]\n",
    "print(groceries_lst)\n",
    "print(len(groceries_lst))"
   ]
  },
  {
   "cell_type": "code",
   "execution_count": null,
   "metadata": {
    "slideshow": {
     "slide_type": "subslide"
    }
   },
   "outputs": [],
   "source": [
    "prime_nums_lst = [2, 3, 5, 7, 11, 13, 17, 19, 23, 29]\n",
    "print(prime_nums_lst)\n",
    "print(len(prime_nums_lst))"
   ]
  },
  {
   "cell_type": "code",
   "execution_count": null,
   "metadata": {
    "slideshow": {
     "slide_type": "subslide"
    }
   },
   "outputs": [],
   "source": [
    "stats_lst = ['ashley', 9.9, 'providence', True]\n",
    "print(stats_lst)\n",
    "print(len(stats_lst))"
   ]
  },
  {
   "cell_type": "markdown",
   "metadata": {
    "slideshow": {
     "slide_type": "slide"
    }
   },
   "source": [
    "### <font color='LIGHTGRAY'>By the end of this session you'll be able to </font>\n",
    "- <font color='LIGHTGRAY'>create lists and add elements in it</font>\n",
    "- **slice lists**\n",
    "- <font color='LIGHTGRAY'>modify lists</font>\n",
    "- <font color='LIGHTGRAY'>concatenate, sort, and replicate lists</font>\n",
    "- <font color='LIGHTGRAY'>better understand what str.split returns</font>"
   ]
  },
  {
   "cell_type": "markdown",
   "metadata": {
    "slideshow": {
     "slide_type": "subslide"
    }
   },
   "source": [
    "## Indexing a list\n",
    "Behaves much like indexing a string"
   ]
  },
  {
   "cell_type": "code",
   "execution_count": null,
   "metadata": {
    "slideshow": {
     "slide_type": "-"
    }
   },
   "outputs": [],
   "source": [
    "print(prime_nums_lst)\n",
    "print(len(prime_nums_lst))     # get length of list\n",
    "print(prime_nums_lst[0])       # get first element\n",
    "print(prime_nums_lst[1])      # get second element"
   ]
  },
  {
   "cell_type": "markdown",
   "metadata": {
    "slideshow": {
     "slide_type": "subslide"
    }
   },
   "source": [
    "### Slicing\n",
    "\n",
    "Just as we can use square brackets to access individual list elements, we can also use them to access sublists with the slice notation, marked by the colon (:) character. \n",
    "\n",
    "`x[start:stop:step]`\n",
    "\n",
    "If any of these are unspecified, they default to the values: \n",
    "- `start=0`\n",
    "- `stop=size of dimension`\n",
    "- `step=1`"
   ]
  },
  {
   "cell_type": "code",
   "execution_count": null,
   "metadata": {
    "slideshow": {
     "slide_type": "subslide"
    }
   },
   "outputs": [],
   "source": [
    "#print(prime_nums_lst[0:3])     # get first three elements - you can delete the 0\n",
    "#print(prime_nums_lst[2:])      # get third element to end of list - you can add the step of 1\n",
    "#print(prime_nums_lst[::-1])    # reverse a list\n",
    "print(prime_nums_lst[::2])     # every other element"
   ]
  },
  {
   "cell_type": "markdown",
   "metadata": {
    "slideshow": {
     "slide_type": "subslide"
    }
   },
   "source": [
    "Lists can contain other lists! "
   ]
  },
  {
   "cell_type": "code",
   "execution_count": null,
   "metadata": {
    "slideshow": {
     "slide_type": "-"
    }
   },
   "outputs": [],
   "source": [
    "a_pile_lst = [['cat', 'bat'], [10, 20, 30, 40, 50]]\n",
    "print(len(a_pile_lst))\n",
    "print(a_pile_lst[0])\n",
    "print(a_pile_lst[0][1])"
   ]
  },
  {
   "cell_type": "markdown",
   "metadata": {
    "slideshow": {
     "slide_type": "slide"
    }
   },
   "source": [
    "### <font color='LIGHTGRAY'>By the end of the day you'll be able to </font>\n",
    "- <font color='LIGHTGRAY'>create lists and add elements in it</font>\n",
    "- <font color='LIGHTGRAY'>slice lists</font>\n",
    "- **modify lists**\n",
    "- <font color='LIGHTGRAY'>concatenate, sort, and replicate lists</font>\n",
    "- <font color='LIGHTGRAY'>better understand what str.split returns</font>"
   ]
  },
  {
   "cell_type": "markdown",
   "metadata": {
    "slideshow": {
     "slide_type": "subslide"
    }
   },
   "source": [
    "### Modifying list Objects\n",
    "- List objects are mutable\n",
    "- We can add, remove, or change elements"
   ]
  },
  {
   "cell_type": "code",
   "execution_count": null,
   "metadata": {
    "slideshow": {
     "slide_type": "-"
    }
   },
   "outputs": [],
   "source": [
    "names_lst = [\"john\", \"paul\", \"george\", \"ringo\"]"
   ]
  },
  {
   "cell_type": "code",
   "execution_count": null,
   "metadata": {
    "slideshow": {
     "slide_type": "subslide"
    }
   },
   "outputs": [],
   "source": [
    "names_lst.append(\"yoko\")\n",
    "print(names_lst)"
   ]
  },
  {
   "cell_type": "code",
   "execution_count": null,
   "metadata": {
    "slideshow": {
     "slide_type": "subslide"
    }
   },
   "outputs": [],
   "source": [
    "names_lst.insert(1, \"freddie\")\n",
    "print(names_lst)"
   ]
  },
  {
   "cell_type": "code",
   "execution_count": null,
   "metadata": {
    "slideshow": {
     "slide_type": "subslide"
    }
   },
   "outputs": [],
   "source": [
    "names_lst[3] = \"pete\"    # we can modify with assignment\n",
    "print(names_lst)"
   ]
  },
  {
   "cell_type": "code",
   "execution_count": null,
   "metadata": {
    "slideshow": {
     "slide_type": "subslide"
    }
   },
   "outputs": [],
   "source": [
    "# remove element by value\n",
    "names_lst.remove(\"paul\")\n",
    "print(names_lst)"
   ]
  },
  {
   "cell_type": "code",
   "execution_count": null,
   "metadata": {},
   "outputs": [],
   "source": [
    "# you can also delete elements by index or slice\n",
    "print(names_lst)\n",
    "del names_lst[::2]\n",
    "\n",
    "print(names_lst)\n"
   ]
  },
  {
   "cell_type": "markdown",
   "metadata": {
    "slideshow": {
     "slide_type": "slide"
    }
   },
   "source": [
    "### <font color='LIGHTGRAY'>By the end of the day you'll be able to </font>\n",
    "- <font color='LIGHTGRAY'>create lists and add elements in it</font>\n",
    "- <font color='LIGHTGRAY'>slice lists</font>\n",
    "- <font color='LIGHTGRAY'>modify lists</font>\n",
    "- **concatenate, sort, and replicate lists**\n",
    "- <font color='LIGHTGRAY'>better understand what str.split returns</font>"
   ]
  },
  {
   "cell_type": "markdown",
   "metadata": {
    "slideshow": {
     "slide_type": "subslide"
    }
   },
   "source": [
    "### List Concatenation and Replication\n",
    "\n",
    "The `+` operator can combine two lists to create a new list value in the same way it combines two strings into a new string value. The `*` operator can also be used with a list and an integer value to replicate the list."
   ]
  },
  {
   "cell_type": "code",
   "execution_count": null,
   "metadata": {
    "slideshow": {
     "slide_type": "-"
    }
   },
   "outputs": [],
   "source": [
    "print([1, 2, 3] + ['A', 'B', 'C'])\n",
    "print([1, 2, 3] * 5)"
   ]
  },
  {
   "cell_type": "markdown",
   "metadata": {
    "slideshow": {
     "slide_type": "subslide"
    }
   },
   "source": [
    "### List Containment - back to boolean variables"
   ]
  },
  {
   "cell_type": "code",
   "execution_count": null,
   "metadata": {
    "slideshow": {
     "slide_type": "-"
    }
   },
   "outputs": [],
   "source": [
    "print(names_lst)\n",
    "print(\"pete\" in names_lst)"
   ]
  },
  {
   "cell_type": "code",
   "execution_count": null,
   "metadata": {
    "slideshow": {
     "slide_type": "subslide"
    }
   },
   "outputs": [],
   "source": [
    "print(9 in [5, 4, 3])"
   ]
  },
  {
   "cell_type": "markdown",
   "metadata": {
    "slideshow": {
     "slide_type": "subslide"
    }
   },
   "source": [
    "### Sorting Lists\n",
    "\n",
    "Lists of number values or lists of strings can be sorted with the sort() method."
   ]
  },
  {
   "cell_type": "code",
   "execution_count": null,
   "metadata": {
    "slideshow": {
     "slide_type": "-"
    }
   },
   "outputs": [],
   "source": [
    "spam_lst = [2, 5, 3.14, 1, -7]\n",
    "spam_lst.sort() # .sort is applied on the list directly, the list is updated without value assignment\n",
    "print(spam_lst)"
   ]
  },
  {
   "cell_type": "code",
   "execution_count": null,
   "metadata": {
    "slideshow": {
     "slide_type": "subslide"
    }
   },
   "outputs": [],
   "source": [
    "spam_lst = ['ants', 'cats', 'dogs', 'badgers', 'elephants']\n",
    "spam_lst.sort()\n",
    "print(spam_lst)\n",
    "spam_lst.sort(reverse=True) # argument of a method\n",
    "print(spam_lst)"
   ]
  },
  {
   "cell_type": "markdown",
   "metadata": {
    "slideshow": {
     "slide_type": "subslide"
    }
   },
   "source": [
    "You cannot sort lists that have both number values and string values in them, since Python doesn’t know how to compare these values. Python will throw a TypeError error.\n"
   ]
  },
  {
   "cell_type": "code",
   "execution_count": null,
   "metadata": {
    "slideshow": {
     "slide_type": "-"
    }
   },
   "outputs": [],
   "source": [
    "spam_lst = [1, 3, 2, 4, 'Kallie', 'Alice', 'Bob']\n",
    "spam_lst.sort()\n",
    "print(spam_lst)"
   ]
  },
  {
   "cell_type": "markdown",
   "metadata": {
    "slideshow": {
     "slide_type": "subslide"
    }
   },
   "source": [
    "`sort()` uses “ASCIIbetical order” rather than actual alphabetical order for sorting strings. This means uppercase letters come before lowercase letters. Therefore, the lowercase a is sorted so that it comes after the uppercase Z. "
   ]
  },
  {
   "cell_type": "code",
   "execution_count": null,
   "metadata": {
    "slideshow": {
     "slide_type": "-"
    }
   },
   "outputs": [],
   "source": [
    "spam_lst = ['z', 'a', 'A', 'Z']\n",
    "spam_lst.sort()\n",
    "print(spam_lst)"
   ]
  },
  {
   "cell_type": "markdown",
   "metadata": {
    "slideshow": {
     "slide_type": "subslide"
    }
   },
   "source": [
    "If you need to sort the values in regular alphabetical order, pass `str.lower` for the `key` keyword argument in the `sort()` method call. This causes the `sort()` method to treat all the items in the list as if they were lowercase without actually changing the values in the list."
   ]
  },
  {
   "cell_type": "code",
   "execution_count": null,
   "metadata": {
    "slideshow": {
     "slide_type": "-"
    }
   },
   "outputs": [],
   "source": [
    "spam_lst = ['z', 'a', 'A', 'Z']\n",
    "spam_lst.sort(key=str.lower)\n",
    "print(spam_lst)"
   ]
  },
  {
   "cell_type": "markdown",
   "metadata": {
    "slideshow": {
     "slide_type": "slide"
    }
   },
   "source": [
    "### <font color='LIGHTGRAY'>By the end of the day you'll be able to </font>\n",
    "- <font color='LIGHTGRAY'>create lists and add elements in it</font>\n",
    "- <font color='LIGHTGRAY'>slice lists</font>\n",
    "- <font color='LIGHTGRAY'>modify lists</font>\n",
    "- <font color='LIGHTGRAY'>concatenate, sort, and replicate lists</font>\n",
    "- **better understand what str.split returns**"
   ]
  },
  {
   "cell_type": "markdown",
   "metadata": {
    "slideshow": {
     "slide_type": "subslide"
    }
   },
   "source": [
    "### Going back to strings and .split()"
   ]
  },
  {
   "cell_type": "code",
   "execution_count": null,
   "metadata": {
    "slideshow": {
     "slide_type": "-"
    }
   },
   "outputs": [],
   "source": [
    "sentence_str = \"There was no possibility of taking a walk that day.\"\n",
    "words_lst = sentence_str.split('a') # .split returns a list! We glossed over this yesterday.\n",
    "print(type(words_lst) == list)\n",
    "print(words_lst)"
   ]
  },
  {
   "cell_type": "markdown",
   "metadata": {
    "slideshow": {
     "slide_type": "subslide"
    }
   },
   "source": [
    "# <center>What we learned so far... </center>\n",
    "- What is a container\n",
    "- What is a list\n",
    "- How to index and slice lists\n",
    "- Strings are a special type of list"
   ]
  },
  {
   "cell_type": "markdown",
   "metadata": {
    "slideshow": {
     "slide_type": "subslide"
    }
   },
   "source": [
    "# <center> Dictionaries </center>\n",
    "## Objectives\n",
    "- Describe dictionaries and why they are useful\n",
    "- Creating dictionaries\n",
    "- Adding entries to a dictionary\n",
    "- Accessing, updating, removing key/values from a dictionary\n",
    "- Dictionary methods\n",
    "- Casting between lists and dictionaries"
   ]
  },
  {
   "cell_type": "markdown",
   "metadata": {
    "slideshow": {
     "slide_type": "slide"
    }
   },
   "source": [
    "- Describe dictionaries and why they are useful\n",
    "- <font color='LIGHTGRAY'>Creating dictionaries </font>\n",
    "- <font color='LIGHTGRAY'>Adding entries to a dictionary </font>\n",
    "- <font color='LIGHTGRAY'>Accessing, updating, removing key/values from a dictionary </font>\n",
    "- <font color='LIGHTGRAY'>Dictionary methods </font>\n",
    "- <font color='LIGHTGRAY'>Casting between lists and dictionaries </font>"
   ]
  },
  {
   "cell_type": "markdown",
   "metadata": {
    "slideshow": {
     "slide_type": "subslide"
    }
   },
   "source": [
    "# <center> The `dict` container type </center>\n",
    "* Fast lookup table with keys and values\n",
    "* Similar and different from `list`\n",
    "    * Unlike lists, which are indexed by a range of numbers, dictionaries are indexed by keys\n",
    "        * keys can be any type (int, flt, str, bool, dict, list, etc.)\n",
    "    * Like lists, can store mixed types"
   ]
  },
  {
   "cell_type": "markdown",
   "metadata": {
    "slideshow": {
     "slide_type": "slide"
    }
   },
   "source": [
    "- <font color='LIGHTGRAY'>Describe dictionaries and why they are useful </font>\n",
    "- Creating dictionaries\n",
    "- <font color='LIGHTGRAY'>Adding entries to a dictionary </font>\n",
    "- <font color='LIGHTGRAY'>Accessing, updating, removing key/values from a dictionary </font>\n",
    "- <font color='LIGHTGRAY'>Dictionary methods </font>\n",
    "- <font color='LIGHTGRAY'>Casting between lists and dictionaries </font>"
   ]
  },
  {
   "cell_type": "markdown",
   "metadata": {
    "slideshow": {
     "slide_type": "subslide"
    }
   },
   "source": [
    "## Defining a dict, one key value pair at a time"
   ]
  },
  {
   "cell_type": "code",
   "execution_count": null,
   "metadata": {
    "slideshow": {
     "slide_type": "-"
    }
   },
   "outputs": [],
   "source": [
    "# create an empty dictionary\n",
    "phone_nums_dict = {}\n",
    "print(phone_nums_dict)\n",
    "print(type(phone_nums_dict))\n",
    "print(len(phone_nums_dict))"
   ]
  },
  {
   "cell_type": "code",
   "execution_count": null,
   "metadata": {
    "slideshow": {
     "slide_type": "-"
    }
   },
   "outputs": [],
   "source": [
    "phone_nums_dict[\"zsom\"] = \"555-666-777\"\n",
    "print(phone_nums_dict)\n",
    "print(len(phone_nums_dict))"
   ]
  },
  {
   "cell_type": "code",
   "execution_count": null,
   "metadata": {
    "slideshow": {
     "slide_type": "-"
    }
   },
   "outputs": [],
   "source": [
    "phone_nums_dict[\"lee\"] = \"555-444-333\"\n",
    "print(phone_nums_dict)"
   ]
  },
  {
   "cell_type": "markdown",
   "metadata": {
    "slideshow": {
     "slide_type": "subslide"
    }
   },
   "source": [
    "## Exercise: add key=\"smith\" and value=\"307-821-7788\" to the `phone_nums_dict`"
   ]
  },
  {
   "cell_type": "code",
   "execution_count": null,
   "metadata": {
    "slideshow": {
     "slide_type": "-"
    }
   },
   "outputs": [],
   "source": [
    "from gofer.ok import check\n",
    "# write your code below this line\n",
    "\n",
    "\n",
    "# write your code above this line\n",
    "check('tests/lec4_p1.py')"
   ]
  },
  {
   "cell_type": "markdown",
   "metadata": {
    "slideshow": {
     "slide_type": "subslide"
    }
   },
   "source": [
    "## Defining a dict with all key value pairs at once"
   ]
  },
  {
   "cell_type": "code",
   "execution_count": null,
   "metadata": {
    "slideshow": {
     "slide_type": "fragment"
    }
   },
   "outputs": [],
   "source": [
    "cities_dict = {'BOS': 'Boston',\n",
    "          'NYC': 'New York City',\n",
    "          'LAX': 'Los Angeles'}\n",
    "print(cities_dict)"
   ]
  },
  {
   "cell_type": "code",
   "execution_count": null,
   "metadata": {
    "slideshow": {
     "slide_type": "fragment"
    }
   },
   "outputs": [],
   "source": [
    "birth_year_dict = dict(Ashley=1990, Jenny=1990)\n",
    "print(birth_year_dict) "
   ]
  },
  {
   "cell_type": "code",
   "execution_count": null,
   "metadata": {
    "slideshow": {
     "slide_type": "subslide"
    }
   },
   "outputs": [],
   "source": [
    "hometown_dict = dict([('Ashley', 'McLean'), ('Jenny', 'Reston')])\n",
    "print(hometown_dict)"
   ]
  },
  {
   "cell_type": "code",
   "execution_count": null,
   "metadata": {
    "slideshow": {
     "slide_type": "fragment"
    }
   },
   "outputs": [],
   "source": [
    "age_dict = dict([('Ashley', 30), ('Jenny', 29)])\n",
    "print(age_dict)"
   ]
  },
  {
   "cell_type": "markdown",
   "metadata": {
    "slideshow": {
     "slide_type": "slide"
    }
   },
   "source": [
    "- <font color='LIGHTGRAY'>Describe dictionaries and why they are useful </font>\n",
    "- <font color='LIGHTGRAY'>Creating dictionaries </font>\n",
    "- Adding entries to a dictionary\n",
    "- <font color='LIGHTGRAY'>Accessing, updating, removing key/values from a dictionary </font>\n",
    "- <font color='LIGHTGRAY'>Dictionary methods </font>\n",
    "- <font color='LIGHTGRAY'>Casting between lists and dictionaries </font>"
   ]
  },
  {
   "cell_type": "markdown",
   "metadata": {
    "slideshow": {
     "slide_type": "subslide"
    }
   },
   "source": [
    "## Adding Entries of Arbitrary Type"
   ]
  },
  {
   "cell_type": "code",
   "execution_count": null,
   "metadata": {
    "slideshow": {
     "slide_type": "-"
    }
   },
   "outputs": [],
   "source": [
    "print(phone_nums_dict)"
   ]
  },
  {
   "cell_type": "code",
   "execution_count": null,
   "metadata": {
    "slideshow": {
     "slide_type": "-"
    }
   },
   "outputs": [],
   "source": [
    "phone_nums_dict[16] = 'abc'\n",
    "print(phone_nums_dict)"
   ]
  },
  {
   "cell_type": "code",
   "execution_count": null,
   "metadata": {
    "slideshow": {
     "slide_type": "subslide"
    }
   },
   "outputs": [],
   "source": [
    "print(phone_nums_dict[0]) # this will throw an error"
   ]
  },
  {
   "cell_type": "code",
   "execution_count": null,
   "metadata": {
    "slideshow": {
     "slide_type": "-"
    }
   },
   "outputs": [],
   "source": [
    " print(phone_nums_dict[16]) # this will not throw an error"
   ]
  },
  {
   "cell_type": "code",
   "execution_count": null,
   "metadata": {
    "slideshow": {
     "slide_type": "subslide"
    }
   },
   "outputs": [],
   "source": [
    "phone_nums_dict['gomez'] = ['999-999-9999', '1-800-666-6666']\n",
    "print(phone_nums_dict)"
   ]
  },
  {
   "cell_type": "code",
   "execution_count": null,
   "metadata": {
    "slideshow": {
     "slide_type": "-"
    }
   },
   "outputs": [],
   "source": [
    "print(phone_nums_dict['gomez'][1])"
   ]
  },
  {
   "cell_type": "markdown",
   "metadata": {
    "slideshow": {
     "slide_type": "slide"
    }
   },
   "source": [
    "- <font color='LIGHTGRAY'>Describe dictionaries and why they are useful </font>\n",
    "- <font color='LIGHTGRAY'>Creating dictionaries </font>\n",
    "- <font color='LIGHTGRAY'>Adding entries to a dictionary </font>\n",
    "- Accessing, updating, removing key/values from a dictionary\n",
    "- <font color='LIGHTGRAY'>Dictionary methods </font>\n",
    "- <font color='LIGHTGRAY'>Casting between lists and dictionaries </font>"
   ]
  },
  {
   "cell_type": "markdown",
   "metadata": {
    "slideshow": {
     "slide_type": "subslide"
    }
   },
   "source": [
    "## Accessing a value in a dictionary"
   ]
  },
  {
   "cell_type": "code",
   "execution_count": null,
   "metadata": {
    "slideshow": {
     "slide_type": "-"
    }
   },
   "outputs": [],
   "source": [
    "print(phone_nums_dict[\"zsom\"])"
   ]
  },
  {
   "cell_type": "code",
   "execution_count": null,
   "metadata": {
    "slideshow": {
     "slide_type": "-"
    }
   },
   "outputs": [],
   "source": [
    "print(phone_nums_dict[\"jones\"])"
   ]
  },
  {
   "cell_type": "markdown",
   "metadata": {
    "slideshow": {
     "slide_type": "subslide"
    }
   },
   "source": [
    "## Updating a value in a dictionary"
   ]
  },
  {
   "cell_type": "code",
   "execution_count": null,
   "metadata": {
    "slideshow": {
     "slide_type": "-"
    }
   },
   "outputs": [],
   "source": [
    "print(phone_nums_dict)\n",
    "phone_nums_dict[\"lee\"] = '666-666-6666'\n",
    "print(phone_nums_dict)"
   ]
  },
  {
   "cell_type": "code",
   "execution_count": null,
   "metadata": {
    "slideshow": {
     "slide_type": "-"
    }
   },
   "outputs": [],
   "source": [
    "# if you specify a key twice when constructing a dictionary, the second key will override the first\n",
    "cities_dict = {'BOS': 'Boston',\n",
    "              'NYC': 'New York City',\n",
    "              'LAX': 'Los Angeles',\n",
    "              'BOS': 'Providence'}\n",
    "print(cities_dict)"
   ]
  },
  {
   "cell_type": "markdown",
   "metadata": {
    "slideshow": {
     "slide_type": "subslide"
    }
   },
   "source": [
    "## Removing entries from a dictionary"
   ]
  },
  {
   "cell_type": "code",
   "execution_count": null,
   "metadata": {
    "slideshow": {
     "slide_type": "-"
    }
   },
   "outputs": [],
   "source": [
    "print(phone_nums_dict)\n",
    "del phone_nums_dict['smith']\n",
    "print(phone_nums_dict)"
   ]
  },
  {
   "cell_type": "markdown",
   "metadata": {
    "slideshow": {
     "slide_type": "subslide"
    }
   },
   "source": [
    "## Checking if a key is in a dictionary"
   ]
  },
  {
   "cell_type": "code",
   "execution_count": null,
   "metadata": {
    "slideshow": {
     "slide_type": "-"
    }
   },
   "outputs": [],
   "source": [
    "check_bool = 'NYC' in cities_dict\n",
    "print(check_bool)"
   ]
  },
  {
   "cell_type": "code",
   "execution_count": null,
   "metadata": {
    "slideshow": {
     "slide_type": "-"
    }
   },
   "outputs": [],
   "source": [
    "check_bool = 'NYC' not in cities_dict\n",
    "print(check_bool)"
   ]
  },
  {
   "cell_type": "markdown",
   "metadata": {
    "slideshow": {
     "slide_type": "slide"
    }
   },
   "source": [
    "- <font color='LIGHTGRAY'>Describe dictionaries and why they are useful </font>\n",
    "- <font color='LIGHTGRAY'>Creating dictionaries </font>\n",
    "- <font color='LIGHTGRAY'>Adding entries to a dictionary </font>\n",
    "- <font color='LIGHTGRAY'>Accessing, updating, removing key/values from a dictionary </font>\n",
    "- Dictionary methods\n",
    "- <font color='LIGHTGRAY'>Casting between lists and dictionaries </font>"
   ]
  },
  {
   "cell_type": "markdown",
   "metadata": {
    "slideshow": {
     "slide_type": "subslide"
    }
   },
   "source": [
    "## Dictionary methods"
   ]
  },
  {
   "cell_type": "code",
   "execution_count": null,
   "metadata": {
    "slideshow": {
     "slide_type": "-"
    }
   },
   "outputs": [],
   "source": [
    "print(cities_dict.keys())"
   ]
  },
  {
   "cell_type": "code",
   "execution_count": null,
   "metadata": {
    "slideshow": {
     "slide_type": "-"
    }
   },
   "outputs": [],
   "source": [
    "print(cities_dict.values())"
   ]
  },
  {
   "cell_type": "code",
   "execution_count": null,
   "metadata": {
    "slideshow": {
     "slide_type": "-"
    }
   },
   "outputs": [],
   "source": [
    "print(cities_dict.items())"
   ]
  },
  {
   "cell_type": "code",
   "execution_count": null,
   "metadata": {
    "slideshow": {
     "slide_type": "subslide"
    }
   },
   "outputs": [],
   "source": [
    "print(cities_dict)\n",
    "print(cities_dict.pop('LAX'))\n",
    "print(cities_dict)"
   ]
  },
  {
   "cell_type": "code",
   "execution_count": null,
   "metadata": {
    "slideshow": {
     "slide_type": "subslide"
    }
   },
   "outputs": [],
   "source": [
    "print(cities_dict.get('NYC'))\n",
    "print(cities_dict.get('CHI'))\n",
    "print(cities_dict.get('CHI', -1))"
   ]
  },
  {
   "cell_type": "code",
   "execution_count": null,
   "metadata": {
    "slideshow": {
     "slide_type": "subslide"
    }
   },
   "outputs": [],
   "source": [
    "print(cities_dict)\n",
    "another_cities_dict = {'PHL': 'Philadelphia',\n",
    "                       'SF': 'San Francisco',\n",
    "                       'ATL': 'Atlanta',\n",
    "                       'BOS': 'Boston'}\n",
    "cities_dict.update(another_cities_dict)\n",
    "print(cities_dict)"
   ]
  },
  {
   "cell_type": "code",
   "execution_count": null,
   "metadata": {
    "slideshow": {
     "slide_type": "-"
    }
   },
   "outputs": [],
   "source": [
    "print(cities_dict)\n",
    "cities_dict.update(SF='San Fran')\n",
    "print(cities_dict)"
   ]
  },
  {
   "cell_type": "code",
   "execution_count": null,
   "metadata": {
    "slideshow": {
     "slide_type": "-"
    }
   },
   "outputs": [],
   "source": [
    "print(cities_dict)\n",
    "cities_dict.update([('SF', 'San Francisco')])\n",
    "print(cities_dict)"
   ]
  },
  {
   "cell_type": "markdown",
   "metadata": {
    "slideshow": {
     "slide_type": "subslide"
    }
   },
   "source": [
    "# <center> Casting from one container type to another </center>"
   ]
  },
  {
   "cell_type": "code",
   "execution_count": null,
   "metadata": {
    "slideshow": {
     "slide_type": "subslide"
    }
   },
   "outputs": [],
   "source": [
    "# cast lists to dictionary\n",
    "codes = ['NYC', 'BOS', 'LAX', 'PHL', 'WAS']\n",
    "cities = ['new york', 'boston', 'los angeles', 'philadelphia', 'washington dc']\n",
    "\n",
    "d_dict = dict(zip(codes, cities))\n",
    "print(d_dict)"
   ]
  },
  {
   "cell_type": "code",
   "execution_count": null,
   "metadata": {
    "slideshow": {
     "slide_type": "-"
    }
   },
   "outputs": [],
   "source": [
    "# WATCH OUT!!!\n",
    "codes = ['NYC', 'BOS', 'LAX', 'PHL', 'WAS']\n",
    "cities = ['chicago', 'new york', 'boston', 'los angeles', 'philadelphia', 'washington dc']\n",
    "\n",
    "d_dict = dict(zip(codes, cities))\n",
    "print(d_dict)"
   ]
  },
  {
   "cell_type": "code",
   "execution_count": null,
   "metadata": {
    "slideshow": {
     "slide_type": "subslide"
    }
   },
   "outputs": [],
   "source": [
    "keys_lst = list(d_dict.keys())\n",
    "values_lst = list(d_dict.values())\n",
    "\n",
    "print(keys_lst)\n",
    "print(type(keys_lst))\n",
    "print(values_lst)\n",
    "print(type(values_lst))"
   ]
  },
  {
   "cell_type": "markdown",
   "metadata": {
    "************New Notebook**********": "week_1/day_5_if_statements.ipynb",
    "slideshow": {
     "slide_type": "slide"
    }
   },
   "source": [
    "# Control flow - the 'grammar' of programing languages\n",
    "Today we cover if statements, on monday you'll learn about for loops\n",
    "\n",
    "### By the end of the day you'll be able to\n",
    "- create simple if statements\n",
    "- create if statements with multiple conditions\n",
    "- create a sequence of if-else statements"
   ]
  },
  {
   "cell_type": "markdown",
   "metadata": {
    "slideshow": {
     "slide_type": "slide"
    }
   },
   "source": [
    "# <center> Control flow </center>\n",
    "### Every code can be broken down to pieces like this:\n",
    "- **Instructions**: \"Do this; then do that.\"\n",
    "- **If statements**: \"If the condition is true, perform this action; otherwise, do that action.\"\n",
    "- **For loops**: \"Do this action that number of times.\"\n",
    "- **While loops**: \"Keep doing that until this condition is false.\"\n",
    "\n",
    "**The instructions operate on variables and containers.**\n",
    "\n",
    "### Programming is like playing with lego. "
   ]
  },
  {
   "cell_type": "markdown",
   "metadata": {
    "slideshow": {
     "slide_type": "slide"
    }
   },
   "source": [
    "### <font color='LIGHTGRAY'>By the end of the day you'll be able to</font>\n",
    "- **create simple if statements**\n",
    "- <font color='LIGHTGRAY'>create if statements with multiple conditions</font>\n",
    "- <font color='LIGHTGRAY'>create a sequence of if-else statements</font>"
   ]
  },
  {
   "cell_type": "code",
   "execution_count": null,
   "metadata": {},
   "outputs": [],
   "source": [
    "if condition(s):\n",
    "    # do something\n",
    "    # you must indent\n",
    "else:\n",
    "    # do something else\n",
    "    # you must indent this as well\n",
    "# instructions"
   ]
  },
  {
   "cell_type": "code",
   "execution_count": null,
   "metadata": {
    "slideshow": {
     "slide_type": "subslide"
    }
   },
   "outputs": [],
   "source": [
    "age_int = 100 # instruction: assign the integer value 18 to age_int\n",
    "\n",
    "if age_int > 17: # note that the condition is a boolean variable with a value true or false\n",
    "    print(\"can vote\") # what we print is a string variable\n",
    "else:\n",
    "    print(\"cannot vote\") # another string variable"
   ]
  },
  {
   "cell_type": "code",
   "execution_count": null,
   "metadata": {
    "slideshow": {
     "slide_type": "subslide"
    }
   },
   "outputs": [],
   "source": [
    "# four instructions: assign values to variables\n",
    "age_int = 17\n",
    "check_age_bool = age_int > 17\n",
    "var1_str = 'can vote'\n",
    "var2_str = 'cannot vote'\n",
    "\n",
    "# if-else statement\n",
    "if check_age_bool: \n",
    "    print(var1_str)\n",
    "else:\n",
    "    print(var2_str)\n",
    "    "
   ]
  },
  {
   "cell_type": "code",
   "execution_count": null,
   "metadata": {
    "slideshow": {
     "slide_type": "subslide"
    }
   },
   "outputs": [],
   "source": [
    "# you can also change a variable's value in an if statement\n",
    "\n",
    "age_int = 19\n",
    "\n",
    "if age_int > 17: \n",
    "    can_vote_bool = True\n",
    "else:\n",
    "    can_vote_bool = False\n",
    "\n",
    "print(can_vote_bool)\n",
    "print('this is outside of the if statement')"
   ]
  },
  {
   "cell_type": "code",
   "execution_count": null,
   "metadata": {
    "slideshow": {
     "slide_type": "subslide"
    }
   },
   "outputs": [],
   "source": [
    "# condition/boolean variable can check type, list length, anything really\n",
    "# and you can do anything inside the if and else parts too\n",
    "age_int = 99\n",
    "\n",
    "if type(age_int) == int:\n",
    "    variable_named_correctly_str = 'yes'\n",
    "else:\n",
    "    variable_named_correctly_str = 'no'\n",
    "    \n",
    "print(variable_named_correctly_str)"
   ]
  },
  {
   "cell_type": "markdown",
   "metadata": {
    "slideshow": {
     "slide_type": "slide"
    }
   },
   "source": [
    "### <font color='LIGHTGRAY'>By the end of the day you'll be able to</font>\n",
    "- <font color='LIGHTGRAY'>create simple if statements</font>\n",
    "- **create if statements with multiple conditions**\n",
    "- <font color='LIGHTGRAY'>create a sequence of if-else statements</font>"
   ]
  },
  {
   "cell_type": "code",
   "execution_count": null,
   "metadata": {
    "slideshow": {
     "slide_type": "-"
    }
   },
   "outputs": [],
   "source": [
    "# multiple conditions with *and*\n",
    "# all conditions need to be True\n",
    "\n",
    "age_int = 100\n",
    "\n",
    "if (age_int >= 2) and (age_int <= 100): # multiple conditions need to be in parentheses, these are boolean variables  \n",
    "    print(\"can walk\") # print a string\n",
    "else:\n",
    "    print(\"cannot walk\") # print another string"
   ]
  },
  {
   "cell_type": "code",
   "execution_count": null,
   "metadata": {
    "slideshow": {
     "slide_type": "subslide"
    }
   },
   "outputs": [],
   "source": [
    "# multiple conditions with *or*\n",
    "# it is enough if one condition is True\n",
    "\n",
    "age_int = 101\n",
    "\n",
    "if (age_int < 2) or (age_int > 100): # multiple conditions need to be in parentheses, these are boolean variables  \n",
    "    print(\"cannot walk\") # print a string\n",
    "else:\n",
    "    print(\"can walk\") # print another string"
   ]
  },
  {
   "cell_type": "code",
   "execution_count": null,
   "metadata": {},
   "outputs": [],
   "source": [
    "cents_int = 25\n",
    "\n",
    "if cents_int == 25:\n",
    "    print(\"washington\")\n",
    "elif cents_int == 10:\n",
    "    print(\"roosevelt\")\n",
    "elif cents_int == 5:\n",
    "    print(\"jefferson\")\n",
    "elif cents_int == 1:\n",
    "    print(\"lincoln\")\n",
    "else:\n",
    "    print(\"not US coin\")"
   ]
  },
  {
   "cell_type": "markdown",
   "metadata": {
    "slideshow": {
     "slide_type": "slide"
    }
   },
   "source": [
    "# <center> What we learned so far...</center>\n",
    "- What are if statements useful for\n",
    "- How to write simple and multiple condition if statements"
   ]
  },
  {
   "cell_type": "markdown",
   "metadata": {
    "slideshow": {
     "slide_type": "slide"
    }
   },
   "source": [
    "# <center> `for` loops </center>\n",
    "## Objectives\n",
    "- write for loops to iterate over containers\n",
    "- write for loops to iterate a given number of times\n",
    "- updating containers in a for loop\n",
    "- write a list comprehension\n",
    "- write a dictionary comprehension"
   ]
  },
  {
   "cell_type": "markdown",
   "metadata": {
    "slideshow": {
     "slide_type": "slide"
    }
   },
   "source": [
    "- write for loops to iterate over containers\n",
    "- <font color='LIGHTGRAY'> write for loops to iterate a given number of times </font>\n",
    "- <font color='LIGHTGRAY'> updating containers in a for loop </font>\n",
    "- <font color='LIGHTGRAY'> write a list comprehension </font>\n",
    "- <font color='LIGHTGRAY'> write a dictionary comprehension </font>"
   ]
  },
  {
   "cell_type": "markdown",
   "metadata": {
    "slideshow": {
     "slide_type": "subslide"
    }
   },
   "source": [
    "## <center>For loop</center>\n",
    "```sequence_list = [item 1, item 2, item 3, item 4, item 5]\n",
    "for item in sequence_list:\n",
    "    do something with item\n",
    "    (do another thing with item)```"
   ]
  },
  {
   "cell_type": "code",
   "execution_count": null,
   "metadata": {
    "slideshow": {
     "slide_type": "-"
    }
   },
   "outputs": [],
   "source": [
    "num_list = [1,2,3,4,5]\n",
    "\n",
    "for item in num_list:\n",
    "    print(item)"
   ]
  },
  {
   "cell_type": "code",
   "execution_count": null,
   "metadata": {
    "slideshow": {
     "slide_type": "subslide"
    }
   },
   "outputs": [],
   "source": [
    "for item in num_list:\n",
    "    print(item)\n",
    "    print(item * 10)"
   ]
  },
  {
   "cell_type": "code",
   "execution_count": null,
   "metadata": {
    "slideshow": {
     "slide_type": "subslide"
    }
   },
   "outputs": [],
   "source": [
    "letters_list = ['a','s','h','l','e','y']\n",
    "for item in letters_list:\n",
    "    print(item)\n",
    "    new_item = item + 'Z'\n",
    "    print(new_item)"
   ]
  },
  {
   "cell_type": "markdown",
   "metadata": {
    "slideshow": {
     "slide_type": "subslide"
    }
   },
   "source": [
    "## Iterating over strings"
   ]
  },
  {
   "cell_type": "code",
   "execution_count": null,
   "metadata": {
    "slideshow": {
     "slide_type": "-"
    }
   },
   "outputs": [],
   "source": [
    "# iterate over characters in a string\n",
    "my_str = 'ashley s. lee'\n",
    "\n",
    "for char in my_str:\n",
    "    print(char)"
   ]
  },
  {
   "cell_type": "code",
   "execution_count": null,
   "metadata": {
    "slideshow": {
     "slide_type": "subslide"
    }
   },
   "outputs": [],
   "source": [
    "# iterate over words in a string (split by space)\n",
    "for word in my_str.split():\n",
    "    print(word)"
   ]
  },
  {
   "cell_type": "markdown",
   "metadata": {
    "slideshow": {
     "slide_type": "subslide"
    }
   },
   "source": [
    "## For loops that iterate over dictionaries"
   ]
  },
  {
   "cell_type": "code",
   "execution_count": null,
   "metadata": {
    "slideshow": {
     "slide_type": "-"
    }
   },
   "outputs": [],
   "source": [
    "birth_year_dict = dict(Ashley=1990, Rihanna=1992, Emily=1986)\n",
    "print(birth_year_dict)"
   ]
  },
  {
   "cell_type": "code",
   "execution_count": null,
   "metadata": {
    "slideshow": {
     "slide_type": "-"
    }
   },
   "outputs": [],
   "source": [
    "for key in birth_year_dict.keys():\n",
    "    print(key)"
   ]
  },
  {
   "cell_type": "code",
   "execution_count": null,
   "metadata": {
    "slideshow": {
     "slide_type": "subslide"
    }
   },
   "outputs": [],
   "source": [
    "for value in birth_year_dict.values():\n",
    "    print(value)"
   ]
  },
  {
   "cell_type": "code",
   "execution_count": null,
   "metadata": {
    "slideshow": {
     "slide_type": "-"
    }
   },
   "outputs": [],
   "source": [
    "for key, value in birth_year_dict.items():\n",
    "    print(key, value)"
   ]
  },
  {
   "cell_type": "code",
   "execution_count": null,
   "metadata": {
    "slideshow": {
     "slide_type": "subslide"
    }
   },
   "outputs": [],
   "source": [
    "for k, v in birth_year_dict.items():\n",
    "    birth_year_dict[k] = v + 1\n",
    "    \n",
    "print(birth_year_dict)\n",
    "# keys cannot be updated in this way"
   ]
  },
  {
   "cell_type": "markdown",
   "metadata": {
    "slideshow": {
     "slide_type": "slide"
    }
   },
   "source": [
    "- <font color='LIGHTGRAY'> write for loops to iterate over containers </font>\n",
    "- write for loops to iterate a given number of times\n",
    "- <font color='LIGHTGRAY'> updating containers in a for loop </font>\n",
    "- <font color='LIGHTGRAY'> write a list comprehension </font>\n",
    "- <font color='LIGHTGRAY'> write a dictionary comprehension </font>"
   ]
  },
  {
   "cell_type": "markdown",
   "metadata": {
    "slideshow": {
     "slide_type": "subslide"
    }
   },
   "source": [
    "## Iterating for a given number of times"
   ]
  },
  {
   "cell_type": "code",
   "execution_count": null,
   "metadata": {
    "slideshow": {
     "slide_type": "-"
    }
   },
   "outputs": [],
   "source": [
    "for i in range(12):\n",
    "    print(i)"
   ]
  },
  {
   "cell_type": "code",
   "execution_count": null,
   "metadata": {
    "slideshow": {
     "slide_type": "subslide"
    }
   },
   "outputs": [],
   "source": [
    "for i in range(len(my_str)):\n",
    "    print(i, my_str[i])"
   ]
  },
  {
   "cell_type": "markdown",
   "metadata": {
    "slideshow": {
     "slide_type": "slide"
    }
   },
   "source": [
    "- <font color='LIGHTGRAY'> write for loops to iterate over containers </font>\n",
    "- <font color='LIGHTGRAY'> write for loops to iterate a given number of times </font>\n",
    "- updating containers in a for loop\n",
    "- <font color='LIGHTGRAY'> write a list comprehension </font>\n",
    "- <font color='LIGHTGRAY'> write a dictionary comprehension </font>"
   ]
  },
  {
   "cell_type": "markdown",
   "metadata": {
    "slideshow": {
     "slide_type": "subslide"
    }
   },
   "source": [
    "## Updating list elements by index"
   ]
  },
  {
   "cell_type": "code",
   "execution_count": null,
   "metadata": {
    "slideshow": {
     "slide_type": "-"
    }
   },
   "outputs": [],
   "source": [
    "\n",
    "prime_list = [1,3,5,7,11]\n",
    "for i in range(len(prime_list)):\n",
    "    prime_list[i] = prime_list[i] ** 2\n",
    "    \n",
    "print(prime_list)"
   ]
  },
  {
   "cell_type": "markdown",
   "metadata": {
    "slideshow": {
     "slide_type": "subslide"
    }
   },
   "source": [
    "## Appending to a list in a loop"
   ]
  },
  {
   "cell_type": "code",
   "execution_count": null,
   "metadata": {
    "slideshow": {
     "slide_type": "-"
    }
   },
   "outputs": [],
   "source": [
    "coins_list = [0.01, 0.05, 0.1, 0.25]\n",
    "coins_list.append(1.0)\n",
    "print(coins_list)"
   ]
  },
  {
   "cell_type": "code",
   "execution_count": null,
   "metadata": {
    "slideshow": {
     "slide_type": "-"
    }
   },
   "outputs": [],
   "source": [
    "new_coins_list = []\n",
    "new_coins_list.append(1.0)\n",
    "print(new_coins_list)"
   ]
  },
  {
   "cell_type": "code",
   "execution_count": null,
   "metadata": {
    "slideshow": {
     "slide_type": "subslide"
    }
   },
   "outputs": [],
   "source": [
    "ints_list = [1,2,3,4]\n",
    "sq_list = []\n",
    "for item in ints_list:\n",
    "    sq_list.append(item**2)\n",
    "    \n",
    "print(sq_list)"
   ]
  },
  {
   "cell_type": "markdown",
   "metadata": {
    "slideshow": {
     "slide_type": "slide"
    }
   },
   "source": [
    "- <font color='LIGHTGRAY'> write for loops to iterate over containers </font>\n",
    "- <font color='LIGHTGRAY'> write for loops to iterate a given number of times </font>\n",
    "- <font color='LIGHTGRAY'> updating containers in a for loop </font>\n",
    "- write a list comprehension\n",
    "- <font color='LIGHTGRAY'> write a dictionary comprehension </font>"
   ]
  },
  {
   "cell_type": "markdown",
   "metadata": {
    "slideshow": {
     "slide_type": "subslide"
    }
   },
   "source": [
    "## List Comprehensions (another way to iterate over a list)\n",
    "`[do something to item for item in sequence]`"
   ]
  },
  {
   "cell_type": "code",
   "execution_count": null,
   "metadata": {
    "slideshow": {
     "slide_type": "-"
    }
   },
   "outputs": [],
   "source": [
    "print(num_list)\n",
    "print([item for item in num_list])"
   ]
  },
  {
   "cell_type": "code",
   "execution_count": null,
   "metadata": {
    "slideshow": {
     "slide_type": "-"
    }
   },
   "outputs": [],
   "source": [
    "print([number for number in num_list])"
   ]
  },
  {
   "cell_type": "code",
   "execution_count": null,
   "metadata": {
    "slideshow": {
     "slide_type": "-"
    }
   },
   "outputs": [],
   "source": [
    "print([item * 100 for item in num_list])"
   ]
  },
  {
   "cell_type": "code",
   "execution_count": null,
   "metadata": {
    "slideshow": {
     "slide_type": "subslide"
    }
   },
   "outputs": [],
   "source": [
    "this_str = 'hello world'\n",
    "print(this_str)"
   ]
  },
  {
   "cell_type": "code",
   "execution_count": null,
   "metadata": {
    "slideshow": {
     "slide_type": "-"
    }
   },
   "outputs": [],
   "source": [
    "chars_list = [char for char in this_str]\n",
    "print(chars_list)"
   ]
  },
  {
   "cell_type": "code",
   "execution_count": null,
   "metadata": {
    "slideshow": {
     "slide_type": "-"
    }
   },
   "outputs": [],
   "source": [
    "words_list = [word for word in this_str.split()]\n",
    "print(words_list)"
   ]
  },
  {
   "cell_type": "code",
   "execution_count": null,
   "metadata": {
    "slideshow": {
     "slide_type": "subslide"
    }
   },
   "outputs": [],
   "source": [
    "index_list = [[i, this_str[i]] for i in range(len(this_str))]\n",
    "print(index_list)"
   ]
  },
  {
   "cell_type": "markdown",
   "metadata": {
    "slideshow": {
     "slide_type": "subslide"
    }
   },
   "source": [
    "## Dictionary Comprehensions"
   ]
  },
  {
   "cell_type": "code",
   "execution_count": null,
   "metadata": {
    "slideshow": {
     "slide_type": "-"
    }
   },
   "outputs": [],
   "source": [
    "print([key for key in birth_year_dict.keys()])"
   ]
  },
  {
   "cell_type": "code",
   "execution_count": null,
   "metadata": {
    "slideshow": {
     "slide_type": "-"
    }
   },
   "outputs": [],
   "source": [
    "print([value for value in birth_year_dict.values()])"
   ]
  },
  {
   "cell_type": "code",
   "execution_count": null,
   "metadata": {
    "slideshow": {
     "slide_type": "-"
    }
   },
   "outputs": [],
   "source": [
    "print([[key, value] for key, value in birth_year_dict.items()])"
   ]
  },
  {
   "cell_type": "markdown",
   "metadata": {
    "************New Notebook**********": "week_2/day_7_for_if.ipynb",
    "slideshow": {
     "slide_type": "slide"
    }
   },
   "source": [
    "# Control flow - the 'grammar' of programing languages\n",
    "Today we combine for loops and if statements to do more complex operations\n",
    "\n",
    "### By the end of the day you'll be able to\n",
    "- filter container elements using a combination of a for loop and an if statement\n",
    "- update values in a nested list using double for loops (aka nested loop)\n",
    "- sort a list of numbers using a nested loop and an if statement\n"
   ]
  },
  {
   "cell_type": "markdown",
   "metadata": {
    "slideshow": {
     "slide_type": "slide"
    }
   },
   "source": [
    "## Recap - if statement"
   ]
  },
  {
   "cell_type": "code",
   "execution_count": null,
   "metadata": {},
   "outputs": [],
   "source": [
    "if var1_bool: # by default python check for True condition \n",
    "    # do something\n",
    "elif var2_bool:\n",
    "    # do something else\n",
    "...\n",
    "else: # if none of the conditions above were true\n",
    "    # do something else\n",
    "# continue the code"
   ]
  },
  {
   "cell_type": "markdown",
   "metadata": {
    "slideshow": {
     "slide_type": "slide"
    }
   },
   "source": [
    "## Recap - for loop"
   ]
  },
  {
   "cell_type": "code",
   "execution_count": null,
   "metadata": {},
   "outputs": [],
   "source": [
    "for item in container:\n",
    "    # do something with the item\n",
    "# continue the code "
   ]
  },
  {
   "cell_type": "markdown",
   "metadata": {
    "slideshow": {
     "slide_type": "slide"
    }
   },
   "source": [
    "### <font color='LIGHTGRAY'>By the end of the day you'll be able to</font>\n",
    "- **filter container elements using a combination of a for loop and an if statement**\n",
    "- <font color='LIGHTGRAY'>update values in a nested list using double for loops (aka nested loop)</font>\n",
    "- <font color='LIGHTGRAY'>sort a list of numbers using a nested loop and an if statement</font>"
   ]
  },
  {
   "cell_type": "code",
   "execution_count": null,
   "metadata": {
    "slideshow": {
     "slide_type": "slide"
    }
   },
   "outputs": [],
   "source": [
    "my_lst = ['ambivert', 24, 4567, 582, 78, 'calcspar', 'deaness', 12, 675, 'entrete', 'gades']\n",
    "\n",
    "# collect the string items of this list\n",
    "\n",
    "str_lst = [] # empty list to collect strings in\n",
    "for item in my_lst:\n",
    "    if type(item) == str: # indented once\n",
    "        str_lst.append(item) # indented twice\n",
    "    print(item) # indented once so this line is outside the if statement\n",
    "print(str_lst) # no indent, this line is performed once the for loop is done\n"
   ]
  },
  {
   "cell_type": "markdown",
   "metadata": {
    "slideshow": {
     "slide_type": "slide"
    }
   },
   "source": [
    "### <font color='LIGHTGRAY'>By the end of the day you'll be able to</font>\n",
    "- <font color='LIGHTGRAY'>filter container elements using a combination of a for loop and an if statement</font>\n",
    "- **update values in a nested list using double for loops (aka nested loop)**\n",
    "- <font color='LIGHTGRAY'>sort a list of numbers using a nested loop and an if statement</font>"
   ]
  },
  {
   "cell_type": "code",
   "execution_count": null,
   "metadata": {
    "scrolled": true,
    "slideshow": {
     "slide_type": "slide"
    }
   },
   "outputs": [],
   "source": [
    "# each item in the list contains the birthyears of people living in the same household\n",
    "birthyears_lst = [[1976,1956,2013],[1989,2002],[1954,1978,1928,2009,1938],[2001],[1978,2000,2015,1981,1995]]\n",
    "\n",
    "# let's print out each number\n",
    "for item in birthyears_lst:\n",
    "    print('before:',item) # one indent!\n",
    "    for num in item:\n",
    "        print('before:',num)\n",
    "        num = num + 1\n",
    "        print('after:',num)\n",
    "    print('after:',item)\n",
    "print(birthyears_lst)\n",
    "# can we modify birthyears_lst with this approach?"
   ]
  },
  {
   "cell_type": "code",
   "execution_count": null,
   "metadata": {
    "scrolled": true,
    "slideshow": {
     "slide_type": "subslide"
    }
   },
   "outputs": [],
   "source": [
    "# if you want to modify a list element, you need to reference them by index.\n",
    "\n",
    "i = 2\n",
    "j = 4\n",
    "print(birthyears_lst[i][j]) # just a reminder how to index nested lists\n",
    "\n",
    "\n",
    "for i in range(len(birthyears_lst)):\n",
    "    print('i',i,'sublist',birthyears_lst[i]) # one indent!\n",
    "    for j in range(len(birthyears_lst[i])):\n",
    "        print('   before i:',i,'j:',j,'element:',birthyears_lst[i][j])\n",
    "        # birthyears_lst[i][j] can be modified!\n",
    "        birthyears_lst[i][j] = birthyears_lst[i][j] + 1\n",
    "        print('   after i:',i,'j:',j,'element:',birthyears_lst[i][j])\n",
    "\n",
    "    print('moving on to the next sublist')\n",
    "print(birthyears_lst)"
   ]
  },
  {
   "cell_type": "markdown",
   "metadata": {
    "slideshow": {
     "slide_type": "subslide"
    }
   },
   "source": [
    "### Let's create a list that contains everyone's age and has the same shape as birthyears_lst"
   ]
  },
  {
   "cell_type": "code",
   "execution_count": null,
   "metadata": {
    "scrolled": true,
    "slideshow": {
     "slide_type": "-"
    }
   },
   "outputs": [],
   "source": [
    "ages_lst = [] \n",
    "for i in range(len(birthyears_lst)):\n",
    "    print('sublist before:',birthyears_lst[i])\n",
    "    ages_lst.append([]) # add an empty sublist\n",
    "    for j in range(len(birthyears_lst[i])):\n",
    "        print('   before:',birthyears_lst[i][j])\n",
    "        ages_lst[i].append(2020 - birthyears_lst[i][j]) # add an element to the sublist\n",
    "        print('   after:',ages_lst[i][j])\n",
    "    print('sublist after:',ages_lst[i])\n",
    "print(ages_lst)"
   ]
  },
  {
   "cell_type": "markdown",
   "metadata": {
    "slideshow": {
     "slide_type": "slide"
    }
   },
   "source": [
    "## Sorting\n",
    "- Given a list of numbers, rearrange the elements such that they are in increasing order.\n",
    "- Bubble sort is a simple but inefficient way to sort numbers.\n",
    "- It is good to learn about nesting loops and if statements\n",
    "\n",
    "[34, 8, 1335, 7]"
   ]
  },
  {
   "cell_type": "code",
   "execution_count": null,
   "metadata": {
    "slideshow": {
     "slide_type": "subslide"
    }
   },
   "outputs": [],
   "source": [
    "nums_lst = [34,7,1335,8,24,78,123,576,38]\n",
    "\n",
    "for i in range(len(nums_lst)):\n",
    "    for j in range(i):\n",
    "        print('before:','element',j,':',nums_lst[j],'element', i,':', nums_lst[i])\n",
    "        if nums_lst[j] > nums_lst[i]: # if an item is smaller than its neighbor, switch them\n",
    "            temp = nums_lst[i] # temporary variable\n",
    "            nums_lst[i] = nums_lst[j]\n",
    "            nums_lst[j] = temp\n",
    "            print('   we switched elements')\n",
    "        # note: no else statement. if an element is equal or larger than its neighbor, there is nothing to do\n",
    "        print('after:','element',j,':',nums_lst[j],'element', i,':', nums_lst[i])\n",
    "        print(nums_lst)"
   ]
  },
  {
   "cell_type": "markdown",
   "metadata": {
    "slideshow": {
     "slide_type": "slide"
    }
   },
   "source": [
    "# <center> What we learned so far... </center>\n",
    "- Variables: integers, floats, booleans, strings\n",
    "- Container types: lists, dictionaries\n",
    "- Control flow: if-else statements, for loops, comprehensions"
   ]
  },
  {
   "cell_type": "markdown",
   "metadata": {
    "slideshow": {
     "slide_type": "slide"
    }
   },
   "source": [
    "# <center> Functions </center>\n",
    "### Objectives\n",
    "- Write simple functions for making code organized and reusable\n",
    "- Write functions with multiple arguments and outputs\n",
    "- Write functions with named arguments and default argument values\n",
    "- Describe the difference between Global and Local scope\n",
    "- Handle errors within your code"
   ]
  },
  {
   "cell_type": "markdown",
   "metadata": {
    "slideshow": {
     "slide_type": "slide"
    }
   },
   "source": [
    "- Write simple functions for making code organized and reusable\n",
    "- <font color='LIGHTGRAY'> Write functions with multiple arguments and outputs </font>\n",
    "- <font color='LIGHTGRAY'> Write functions with named arguments and default argument values </font>\n",
    "- <font color='LIGHTGRAY'> Describe the difference between Global and Local scope </font>\n",
    "- <font color='LIGHTGRAY'> Handle errors within your code </font>"
   ]
  },
  {
   "cell_type": "markdown",
   "metadata": {
    "slideshow": {
     "slide_type": "subslide"
    }
   },
   "source": [
    "## Defining Simple Functions"
   ]
  },
  {
   "cell_type": "markdown",
   "metadata": {
    "slideshow": {
     "slide_type": "-"
    }
   },
   "source": [
    "- Functions are discrete units of code\n",
    "- Similar to functions in mathematics\n",
    "  + Take some input, return some output (_usually_)\n",
    "- Functions have a very specific syntax that uses indentation and special keywords that let Python know you are defining or creating a new function\n",
    "\n",
    "```\n",
    "def function_name(input):\n",
    "    do something here\n",
    "    (maybe do another thing here)\n",
    "    \n",
    "    return output```"
   ]
  },
  {
   "cell_type": "code",
   "execution_count": null,
   "metadata": {
    "slideshow": {
     "slide_type": "subslide"
    }
   },
   "outputs": [],
   "source": [
    "# Define simple function.\n",
    "# Note: Indentation used to denote function body\n",
    "# Note 2: The lines within def are only run when you call the function\n",
    "\n",
    "def add_one(number):\n",
    "    res = number + 1\n",
    "    \n",
    "    return res\n",
    "\n",
    "res1_int = add_one(42)\n",
    "res2_int = add_one(9)\n",
    "print(res1_int)\n",
    "print(res2_int)"
   ]
  },
  {
   "cell_type": "markdown",
   "metadata": {
    "slideshow": {
     "slide_type": "slide"
    }
   },
   "source": [
    "- <font color='LIGHTGRAY'> Write simple functions for making code organized and reusable </font>\n",
    "- Write functions with multiple arguments and outputs\n",
    "- <font color='LIGHTGRAY'> Write functions with named arguments and default argument values </font>\n",
    "- <font color='LIGHTGRAY'> Describe the difference between Global and Local scope </font>\n",
    "- <font color='LIGHTGRAY'> Handle errors within your code </font>"
   ]
  },
  {
   "cell_type": "markdown",
   "metadata": {
    "slideshow": {
     "slide_type": "subslide"
    }
   },
   "source": [
    "## Functions can take multiple inputs"
   ]
  },
  {
   "cell_type": "code",
   "execution_count": null,
   "metadata": {
    "slideshow": {
     "slide_type": "-"
    }
   },
   "outputs": [],
   "source": [
    "# Function with multiple arguments\n",
    "\n",
    "def combine_strings(string_1, string_2):\n",
    "    res = string_1 + ' ' + string_2\n",
    "    \n",
    "    return res \n",
    "\n",
    "res1_str = combine_strings('hello', 'world')\n",
    "res2_str = combine_strings('goodbye', 'moon')\n",
    "\n",
    "print(res1_str)\n",
    "print(res2_str)"
   ]
  },
  {
   "cell_type": "markdown",
   "metadata": {
    "slideshow": {
     "slide_type": "subslide"
    }
   },
   "source": [
    "## When defining a function, you can call another function you already defined."
   ]
  },
  {
   "cell_type": "code",
   "execution_count": null,
   "metadata": {
    "slideshow": {
     "slide_type": "subslide"
    }
   },
   "outputs": [],
   "source": [
    "# Function to determine if number is even\n",
    "\n",
    "def is_even(n):\n",
    "    res = n % 2 == 0\n",
    "    \n",
    "    return res\n",
    "\n",
    "res1_int = is_even(17)\n",
    "res2_int = is_even(2)\n",
    "\n",
    "print(res1_int)\n",
    "print(res2_int)"
   ]
  },
  {
   "cell_type": "code",
   "execution_count": null,
   "metadata": {
    "slideshow": {
     "slide_type": "-"
    }
   },
   "outputs": [],
   "source": [
    "# Functions that call other functions\n",
    "\n",
    "def is_odd(n):\n",
    "    res = not is_even(n)\n",
    "    \n",
    "    return res\n",
    "\n",
    "res1_int = is_odd(30)\n",
    "res2_int = is_odd(31)\n",
    "\n",
    "print(res1_int) \n",
    "print(res2_int)"
   ]
  },
  {
   "cell_type": "markdown",
   "metadata": {
    "slideshow": {
     "slide_type": "subslide"
    }
   },
   "source": [
    "## Functions can return multiple outputs"
   ]
  },
  {
   "cell_type": "code",
   "execution_count": null,
   "metadata": {
    "slideshow": {
     "slide_type": "-"
    }
   },
   "outputs": [],
   "source": [
    "# Functions that return multiple values\n",
    "from statistics import mean, stdev\n",
    "\n",
    "def mean_sd(numbers_list):\n",
    "    m = mean(numbers_list)\n",
    "    sd = stdev(numbers_list)\n",
    "    \n",
    "    return m, sd\n",
    "\n",
    "mean_flt, sd_flt = mean_sd([0,2,10,10])\n",
    "print(mean_flt, sd_flt)"
   ]
  },
  {
   "cell_type": "markdown",
   "metadata": {
    "slideshow": {
     "slide_type": "slide"
    }
   },
   "source": [
    "- <font color='LIGHTGRAY'> Write simple functions for making code organized and reusable </font>\n",
    "- <font color='LIGHTGRAY'> Write functions with multiple arguments and outputs </font>\n",
    "- Write functions with named arguments and default argument values\n",
    "- <font color='LIGHTGRAY'> Describe the difference between Global and Local scope </font>\n",
    "- <font color='LIGHTGRAY'> Handle errors within your code </font>"
   ]
  },
  {
   "cell_type": "markdown",
   "metadata": {
    "slideshow": {
     "slide_type": "subslide"
    }
   },
   "source": [
    "## Using Named Arguments\n",
    "- So far, we been using \"positional\" matching of arguments\n",
    "- More complicated functions can take many arguments\n",
    "- Remembering the order of the arguments can get tricky\n",
    "- Python allows \"keyword\" arguments"
   ]
  },
  {
   "cell_type": "code",
   "execution_count": null,
   "metadata": {
    "slideshow": {
     "slide_type": "subslide"
    }
   },
   "outputs": [],
   "source": [
    "def make_sentence(subj, verb, obj):\n",
    "    res = subj + \" \" + verb + \" \" + obj\n",
    "    return res"
   ]
  },
  {
   "cell_type": "code",
   "execution_count": null,
   "metadata": {
    "slideshow": {
     "slide_type": "-"
    }
   },
   "outputs": [],
   "source": [
    "# Run our function with positional arguments\n",
    "make_sentence(\"paul\", \"ate\", \"the potato\")"
   ]
  },
  {
   "cell_type": "code",
   "execution_count": null,
   "metadata": {
    "slideshow": {
     "slide_type": "-"
    }
   },
   "outputs": [],
   "source": [
    "# Change order of positional arguments\n",
    "make_sentence(\"the potato\", \"ate\", \"paul\")"
   ]
  },
  {
   "cell_type": "code",
   "execution_count": null,
   "metadata": {
    "slideshow": {
     "slide_type": "-"
    }
   },
   "outputs": [],
   "source": [
    "# Change order of keyword arguments\n",
    "make_sentence(obj=\"the potato\", verb=\"ate\", subj=\"paul\")"
   ]
  },
  {
   "cell_type": "markdown",
   "metadata": {
    "slideshow": {
     "slide_type": "subslide"
    }
   },
   "source": [
    "## Default Argument Values\n",
    "- Can specify defaults for some (or all) arguments"
   ]
  },
  {
   "cell_type": "code",
   "execution_count": null,
   "metadata": {
    "slideshow": {
     "slide_type": "-"
    }
   },
   "outputs": [],
   "source": [
    "def make_sentence(subj, verb, obj='the potato'):\n",
    "    res = subj + \" \" + verb + \" \" + obj\n",
    "    \n",
    "    return res\n",
    "\n",
    "print(make_sentence('Ashley', 'hates'))"
   ]
  },
  {
   "cell_type": "code",
   "execution_count": null,
   "metadata": {
    "slideshow": {
     "slide_type": "-"
    }
   },
   "outputs": [],
   "source": [
    "print(make_sentence('Ashley', 'hates', 'the croissant'))"
   ]
  },
  {
   "cell_type": "code",
   "execution_count": null,
   "metadata": {
    "slideshow": {
     "slide_type": "subslide"
    }
   },
   "outputs": [],
   "source": [
    "print(make_sentence(verb='hates', subj='Ashley', obj='the croissant'))"
   ]
  },
  {
   "cell_type": "code",
   "execution_count": null,
   "metadata": {
    "slideshow": {
     "slide_type": "-"
    }
   },
   "outputs": [],
   "source": [
    "print(make_sentence(verb='hates', subj='Ashley'))"
   ]
  },
  {
   "cell_type": "markdown",
   "metadata": {
    "slideshow": {
     "slide_type": "slide"
    }
   },
   "source": [
    "- <font color='LIGHTGRAY'> Write simple functions for making code organized and reusable </font>\n",
    "- <font color='LIGHTGRAY'> Write functions with multiple arguments and outputs </font>\n",
    "- <font color='LIGHTGRAY'> Write functions with named arguments and default argument values </font>\n",
    "- Describe the difference between Global and Local scope\n",
    "- <font color='LIGHTGRAY'> Handle errors within your code </font>"
   ]
  },
  {
   "cell_type": "markdown",
   "metadata": {
    "slideshow": {
     "slide_type": "subslide"
    }
   },
   "source": [
    "## Functions and Scope\n",
    "\n",
    "#### Scope:\n",
    "The scope of a variable refers to the places where you can see and access it.\n",
    "\n",
    "- Global scope can be considered the top level\n",
    "- Functions introduce \"local scope\""
   ]
  },
  {
   "cell_type": "code",
   "execution_count": null,
   "metadata": {
    "slideshow": {
     "slide_type": "subslide"
    }
   },
   "outputs": [],
   "source": [
    "# local variables cannot be used in the global scope, only the local scope\n",
    "def breakfast(ham):\n",
    "    eggs = True\n",
    "    if ham == True:\n",
    "        bacon = False\n",
    "    else:\n",
    "        bacon = True\n",
    "#     print(eggs, bacon, ham)\n",
    "    \n",
    "    return(eggs, bacon)\n",
    "\n",
    "eggs_bool, bacon_bool = breakfast(True)\n",
    "print(eggs_bool)\n",
    "print(bacon_bool)\n",
    "print(eggs)\n",
    "print(bacon)\n",
    "print(ham)"
   ]
  },
  {
   "cell_type": "code",
   "execution_count": null,
   "metadata": {
    "slideshow": {
     "slide_type": "subslide"
    }
   },
   "outputs": [],
   "source": [
    "# global variables can be read from a local scope or global scope\n",
    "def breakfast():\n",
    "    print(eggs_str)\n",
    "    \n",
    "    return\n",
    "    \n",
    "eggs_str = 'over easy'\n",
    "breakfast()"
   ]
  },
  {
   "cell_type": "code",
   "execution_count": null,
   "metadata": {
    "slideshow": {
     "slide_type": "subslide"
    }
   },
   "outputs": [],
   "source": [
    "# don't use the same variable name in local and global scope\n",
    "def chop(my_string):\n",
    "    split_string = my_string.split()\n",
    "    \n",
    "    return split_string\n",
    "\n",
    "split_string = chop('hi hello hey')\n",
    "print(split_string)"
   ]
  },
  {
   "cell_type": "markdown",
   "metadata": {
    "slideshow": {
     "slide_type": "slide"
    }
   },
   "source": [
    "- <font color='LIGHTGRAY'> Write simple functions for making code organized and reusable </font>\n",
    "- <font color='LIGHTGRAY'> Write functions with multiple arguments and outputs </font>\n",
    "- <font color='LIGHTGRAY'> Write functions with named arguments and default argument values </font>\n",
    "- <font color='LIGHTGRAY'> Describe the difference between Global and Local scope </font>\n",
    "- Handle errors within your code"
   ]
  },
  {
   "cell_type": "markdown",
   "metadata": {
    "slideshow": {
     "slide_type": "subslide"
    }
   },
   "source": [
    "## Exception Handling\n",
    "\n",
    "As we have written code up until now, getting an error (or exception) means your entire program will crash. Instead, we can detect errors, handle them, and continue to run."
   ]
  },
  {
   "cell_type": "code",
   "execution_count": null,
   "metadata": {
    "slideshow": {
     "slide_type": "-"
    }
   },
   "outputs": [],
   "source": [
    "def reverse(my_string):\n",
    "    rev_string = my_string[::-1]\n",
    "    return rev_string\n",
    "\n",
    "reverse(\"NOPE\")"
   ]
  },
  {
   "cell_type": "code",
   "execution_count": null,
   "metadata": {
    "slideshow": {
     "slide_type": "-"
    }
   },
   "outputs": [],
   "source": [
    "reverse(999)"
   ]
  },
  {
   "cell_type": "code",
   "execution_count": null,
   "metadata": {
    "slideshow": {
     "slide_type": "subslide"
    }
   },
   "outputs": [],
   "source": [
    "def reverse(my_string):\n",
    "    try:\n",
    "        rev_string = my_string[::-1]\n",
    "        return rev_string\n",
    "    except:\n",
    "        print('invalid argument')\n",
    "        return\n",
    "        \n",
    "reverse(999)"
   ]
  },
  {
   "cell_type": "markdown",
   "metadata": {
    "slideshow": {
     "slide_type": "slide"
    }
   },
   "source": [
    "## Overview\n",
    "\n",
    "We covered a lot so far!\n",
    "\n",
    "- variables\n",
    "- container types\n",
    "- control flow (if statements and for loops)\n",
    "- functions\n",
    "\n",
    "You can solve a ton of problems by combining these pieces"
   ]
  },
  {
   "cell_type": "markdown",
   "metadata": {
    "slideshow": {
     "slide_type": "slide"
    }
   },
   "source": [
    "###  Last but not least \n",
    "- **test your function inputs**\n"
   ]
  },
  {
   "cell_type": "markdown",
   "metadata": {
    "slideshow": {
     "slide_type": "slide"
    }
   },
   "source": [
    "## Type of errors\n",
    "- obvious errors that give you an error message\n",
    "   - usually syntax errors, forgotten :, type error, forgotten tabs, etc.\n",
    "   - it can be quickly resolved with some googling\n",
    "- sneaky errors that don't throw an error message\n",
    "   - your code runs but the results are incorrect\n",
    "   - it can only be caught by extensive testing   "
   ]
  },
  {
   "cell_type": "markdown",
   "metadata": {
    "slideshow": {
     "slide_type": "subslide"
    }
   },
   "source": [
    "- test-driven development is encouraged!\n",
    "   - figure out how you'll test your code even before you start writing it!\n",
    "- test your data too!\n",
    "   - what properties do you expect the data to have?\n",
    "   - test those!\n",
    "   - errors in data collection often occur"
   ]
  },
  {
   "cell_type": "markdown",
   "metadata": {
    "slideshow": {
     "slide_type": "slide"
    }
   },
   "source": [
    "### How to test your data?\n",
    "- consider what properties the input data to your functions should have:\n",
    "- age should be larger than 0 but smaller than ~150\n",
    "   - sounds obvious but negative values or values over 200 can occur due to typos\n",
    "- salary should be positive\n",
    "- names should not contain non-alpha characters like numbers or special characters"
   ]
  },
  {
   "cell_type": "markdown",
   "metadata": {
    "slideshow": {
     "slide_type": "slide"
    }
   },
   "source": [
    "## Example"
   ]
  },
  {
   "cell_type": "code",
   "execution_count": null,
   "metadata": {},
   "outputs": [],
   "source": [
    "employees_dict = {}\n",
    "employees_dict['employee1'] = [50000,'male',39] # salary, gender, age\n",
    "employees_dict['employee2'] = [70000,'female',46]\n",
    "employees_dict['employee3'] = [60000,'female',556]\n",
    "employees_dict['employee4'] = [130000,'male',60]\n",
    "employees_dict['employee5'] = [80000,'female',29]\n",
    "employees_dict['employee6'] = [40000,'femele',45]\n",
    "employees_dict['employee7'] = [70000,'male',34]"
   ]
  },
  {
   "cell_type": "code",
   "execution_count": null,
   "metadata": {
    "slideshow": {
     "slide_type": "subslide"
    }
   },
   "outputs": [],
   "source": [
    "# let's test data first\n",
    "\n",
    "def test_employee_dictionary(input_dict):\n",
    "    # let's iterate through each key-value pair and write tests\n",
    "    for key,value in input_dict.items():\n",
    "        # salary: salary should be positive\n",
    "        if value[0] < 0:\n",
    "            print('salary is negative')\n",
    "            print(key,value)\n",
    "            raise ValueError\n",
    "        # gender should only be 'male' or 'female'\n",
    "        if (value[1] != 'male') and (value[1] != 'female'):\n",
    "            print('unrecognized gender value')\n",
    "            print(key,value)\n",
    "            raise ValueError\n",
    "        # age should be between 0 and 150\n",
    "        if (value[2] < 0) or (value[2] > 150):\n",
    "            print('age is unrealistic')\n",
    "            print(key,value)\n",
    "            raise ValueError\n",
    "    return\n",
    "\n",
    "test_employee_dictionary(employees_dict)"
   ]
  },
  {
   "cell_type": "code",
   "execution_count": null,
   "metadata": {
    "slideshow": {
     "slide_type": "slide"
    }
   },
   "outputs": [],
   "source": [
    "# let's compare the mean salaries of males and females\n",
    "import statistics\n",
    "\n",
    "def mean_salaries_by_gender(input_dict):\n",
    "    # test the data\n",
    "    test_employee_dictionary(input_dict)\n",
    "    \n",
    "    male_salaries = []\n",
    "    female_salaries = []\n",
    "    for key,value in input_dict.items():\n",
    "        if value[1] == 'male':\n",
    "            male_salaries.append(value[0])\n",
    "        else:\n",
    "            female_salaries.append(value[0])\n",
    "    \n",
    "    mean_male_salary = statistics.mean(male_salaries)\n",
    "    mean_female_salary = statistics.mean(female_salaries)\n",
    "    \n",
    "    return mean_male_salary, mean_female_salary\n",
    "\n",
    "male_sal_flt, female_sal_flt = mean_salaries_by_gender(employees_dict)\n",
    "print(male_sal_flt, female_sal_flt)"
   ]
  },
  {
   "cell_type": "markdown",
   "metadata": {
    "slideshow": {
     "slide_type": "slide"
    }
   },
   "source": [
    "## <center> Congratulations on mastering basic Python! </center>"
   ]
  },
  {
   "cell_type": "markdown",
   "metadata": {
    "slideshow": {
     "slide_type": "slide"
    }
   },
   "source": [
    "# <center> What we learned so far... </center>\n",
    "- Variables\n",
    "- Container types\n",
    "- Control flow\n",
    "- Functions\n",
    "- How to test your code"
   ]
  },
  {
   "cell_type": "markdown",
   "metadata": {
    "slideshow": {
     "slide_type": "slide"
    }
   },
   "source": [
    "# <center> (Boolean Logic), Packages\n",
    "## Objectives\n",
    "- boolean logic\n",
    "- import packages"
   ]
  },
  {
   "cell_type": "markdown",
   "metadata": {},
   "source": [
    "- boolean logic\n",
    "- <font color='LIGHTGRAY'> import packages </font>\n",
    "- <font color='LIGHTGRAY'> describe why the Pandas package is useful</font>\n",
    "- <font color='LIGHTGRAY'> create a dataframe and summarize it </font>\n",
    "- <font color='LIGHTGRAY'> read a CSV file into a Pandas dataframe</font>"
   ]
  },
  {
   "cell_type": "markdown",
   "metadata": {},
   "source": [
    "|Operator\t  |What it means\t             |What it looks like|\n",
    "|-------------|----------------------------|------------------|\n",
    "|`and`        |True if both are true       |x and y           |\n",
    "|`or`         |True if at least one is true|x or y            |\n",
    "|`not`        |True only if false          |not x             |"
   ]
  },
  {
   "cell_type": "markdown",
   "metadata": {},
   "source": [
    "## AND"
   ]
  },
  {
   "cell_type": "code",
   "execution_count": null,
   "metadata": {},
   "outputs": [],
   "source": [
    "print(True and True)\n",
    "print(True and False)\n",
    "print(False and True)\n",
    "print(False and False)"
   ]
  },
  {
   "cell_type": "markdown",
   "metadata": {},
   "source": [
    "## OR"
   ]
  },
  {
   "cell_type": "code",
   "execution_count": null,
   "metadata": {},
   "outputs": [],
   "source": [
    "print(True or True)\n",
    "print(True or False)\n",
    "print(False or True)\n",
    "print(False or False)"
   ]
  },
  {
   "cell_type": "markdown",
   "metadata": {},
   "source": [
    "## NOT"
   ]
  },
  {
   "cell_type": "code",
   "execution_count": null,
   "metadata": {},
   "outputs": [],
   "source": [
    "print(not True)\n",
    "print(not False)"
   ]
  },
  {
   "cell_type": "markdown",
   "metadata": {},
   "source": [
    "## Some more exciting examples..."
   ]
  },
  {
   "cell_type": "code",
   "execution_count": null,
   "metadata": {},
   "outputs": [],
   "source": [
    "print((5 > 3) and (5 < 9))\n",
    "print((5 > 3) and (5 > 9))\n",
    "print((5 < 3) and (5 < 9))\n",
    "print((5 < 3) and (5 > 9))"
   ]
  },
  {
   "cell_type": "code",
   "execution_count": null,
   "metadata": {},
   "outputs": [],
   "source": [
    "print(not((-0.2 > 1.4) and ((0.8 < 3.1) or (0.1 == 0.1))))"
   ]
  },
  {
   "cell_type": "code",
   "execution_count": null,
   "metadata": {},
   "outputs": [],
   "source": [
    "age = 59\n",
    "print((type(age) != float) or (type(age) != int))\n",
    "print((type(age) != float) and (type(age) != int))"
   ]
  },
  {
   "cell_type": "markdown",
   "metadata": {
    "slideshow": {
     "slide_type": "slide"
    }
   },
   "source": [
    "- <font color='LIGHTGRAY'> boolean logic </font>\n",
    "- import packages\n",
    "- <font color='LIGHTGRAY'> describe why the Pandas package is useful</font>\n",
    "- <font color='LIGHTGRAY'> create a dataframe and summarize it </font>\n",
    "- <font color='LIGHTGRAY'> read a CSV file into a Pandas dataframe</font>"
   ]
  },
  {
   "cell_type": "markdown",
   "metadata": {
    "slideshow": {
     "slide_type": "slide"
    }
   },
   "source": [
    "## What are packages\n",
    "- libraries of code\n",
    "- specific to tasks/functions\n",
    "- a lot of common functions are already written by computer scientists and are much faster than you can write\n",
    "- we will be using packages in addition to base Python in the next two weeks"
   ]
  },
  {
   "cell_type": "code",
   "execution_count": null,
   "metadata": {
    "slideshow": {
     "slide_type": "subslide"
    }
   },
   "outputs": [],
   "source": [
    "nums_list = [1,2,3,4,5,10,20,50,200]\n",
    "print(mean(nums_list))"
   ]
  },
  {
   "cell_type": "markdown",
   "metadata": {
    "slideshow": {
     "slide_type": "fragment"
    }
   },
   "source": [
    "### <center> Let's google it!"
   ]
  },
  {
   "cell_type": "code",
   "execution_count": null,
   "metadata": {
    "slideshow": {
     "slide_type": "subslide"
    }
   },
   "outputs": [],
   "source": [
    "import statistics\n",
    "\n",
    "print(statistics.mean(nums_list))"
   ]
  },
  {
   "cell_type": "code",
   "execution_count": null,
   "metadata": {
    "slideshow": {
     "slide_type": "-"
    }
   },
   "outputs": [],
   "source": [
    "help(statistics.mean)"
   ]
  },
  {
   "cell_type": "code",
   "execution_count": null,
   "metadata": {
    "slideshow": {
     "slide_type": "subslide"
    }
   },
   "outputs": [],
   "source": [
    "from statistics import mean\n",
    "\n",
    "print(mean(nums_list))"
   ]
  },
  {
   "cell_type": "code",
   "execution_count": null,
   "metadata": {
    "slideshow": {
     "slide_type": "subslide"
    }
   },
   "outputs": [],
   "source": [
    "import numpy as np\n",
    "\n",
    "print(np.mean(nums_list))"
   ]
  },
  {
   "cell_type": "code",
   "execution_count": null,
   "metadata": {
    "scrolled": true,
    "slideshow": {
     "slide_type": "-"
    }
   },
   "outputs": [],
   "source": [
    "help(np.mean)"
   ]
  }
 ],
 "metadata": {
  "kernelspec": {
   "display_name": "Python 3",
   "language": "python",
   "name": "python3"
  },
  "language_info": {
   "codemirror_mode": {
    "name": "ipython",
    "version": 3
   },
   "file_extension": ".py",
   "mimetype": "text/x-python",
   "name": "python",
   "nbconvert_exporter": "python",
   "pygments_lexer": "ipython3",
   "version": "3.6.7"
  }
 },
 "nbformat": 4,
 "nbformat_minor": 2
}
