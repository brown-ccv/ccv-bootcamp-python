{
 "cells": [
  {
   "cell_type": "markdown",
   "metadata": {},
   "source": [
    "<h1><center>Using Python on OSCAR </center></h1>\n",
    "<p><center>Instructors: Ashok Ragavendran and August Guang</center>\n",
    " <center>Center for Computation and Visualization</center>\n",
    " <center>Center for Computational Biology of Human Disease - Computational Biology Core</center></p>"
   ]
  },
  {
   "cell_type": "markdown",
   "metadata": {
    "toc": true
   },
   "source": [
    "<h1>Table of Contents<span class=\"tocSkip\"></span></h1>\n",
    "<div class=\"toc\"><ul class=\"toc-item\"><li><span><a href=\"#Programming-or-Scripting-with-Python\" data-toc-modified-id=\"Programming-or-Scripting-with-Python-1\"><span class=\"toc-item-num\">1&nbsp;&nbsp;</span>Programming or Scripting with Python</a></span><ul class=\"toc-item\"><li><span><a href=\"#So-what-are-our-options\" data-toc-modified-id=\"So-what-are-our-options-1.1\"><span class=\"toc-item-num\">1.1&nbsp;&nbsp;</span>So what are our options</a></span><ul class=\"toc-item\"><li><span><a href=\"#Old-school:-Use-programs-on-the-command-line-such-as-vim-or-emacs\" data-toc-modified-id=\"Old-school:-Use-programs-on-the-command-line-such-as-vim-or-emacs-1.1.1\"><span class=\"toc-item-num\">1.1.1&nbsp;&nbsp;</span>Old school: Use programs on the command line such as vim or emacs</a></span></li><li><span><a href=\"#Submit-scripts\" data-toc-modified-id=\"Submit-scripts-1.1.2\"><span class=\"toc-item-num\">1.1.2&nbsp;&nbsp;</span>Submit scripts</a></span></li></ul></li></ul></li><li><span><a href=\"#Interactive-coding-with-Python-using-Jupyter\" data-toc-modified-id=\"Interactive-coding-with-Python-using-Jupyter-2\"><span class=\"toc-item-num\">2&nbsp;&nbsp;</span>Interactive coding with Python using Jupyter</a></span><ul class=\"toc-item\"><li><span><a href=\"#Use-the-VNC-Desktop\" data-toc-modified-id=\"Use-the-VNC-Desktop-2.1\"><span class=\"toc-item-num\">2.1&nbsp;&nbsp;</span>Use the VNC Desktop</a></span></li><li><span><a href=\"#Advanced-usage\" data-toc-modified-id=\"Advanced-usage-2.2\"><span class=\"toc-item-num\">2.2&nbsp;&nbsp;</span>Advanced usage</a></span></li></ul></li><li><span><a href=\"#Coding-via-remote-connection-through-an-IDE\" data-toc-modified-id=\"Coding-via-remote-connection-through-an-IDE-3\"><span class=\"toc-item-num\">3&nbsp;&nbsp;</span>Coding via remote connection through an IDE</a></span></li></ul></div>"
   ]
  },
  {
   "cell_type": "markdown",
   "metadata": {},
   "source": [
    "## Programming or Scripting with Python\n",
    "\n",
    "There a couple of different options for editing and modifying python code on OSCAR. Generally, the best practice is that:\n",
    "- Python code is developed locally on a laptop\n",
    "- Code is usually maintained in a central repository such as github\n",
    "- The code is pushed to github and pulled down to OSCAR\n",
    "\n",
    "There are a few instances you might want to deviate from the above workflow\n",
    "- you are writing a python script that might be calling a binary specific to OSCAR\n",
    "- Some libraries such as OPENMPI or perhaps CUDA are being used and need to be edited\n",
    "\n",
    "### So what are our options\n",
    "\n",
    "#### Old school: Use programs on the command line such as vim or emacs\n",
    "- This is one of the quickest ways to edit and interact with code and even interact with it\n",
    "- syntax highlighting is usually on by default as is indentation\n",
    "- learning curve might be higher than some of the other editors you are used to"
   ]
  },
  {
   "cell_type": "markdown",
   "metadata": {},
   "source": [
    "<div class=\"alert alert-block alert-info\"> <b>Note: </b>We will hop on the terminal to show you how you can do that here </div>"
   ]
  },
  {
   "cell_type": "markdown",
   "metadata": {},
   "source": [
    "#### Submit scripts\n",
    "- Batch\n",
    "- interactive \n",
    "- IPython"
   ]
  },
  {
   "cell_type": "markdown",
   "metadata": {},
   "source": [
    "## Interactive coding with Python using Jupyter\n",
    "There are a few options here \n",
    "### Use the VNC Desktop \n",
    "In this case you will launch the VNC desktop client on OSCAR and then run Jupyter from  the command line and connect to it within the desktop as you would locally.\n",
    "\n",
    "**Steps:**\n",
    "- Login to the VNC desktop via the client\n",
    "- Open up a terminal\n",
    "- load your preferred anaconda module\n",
    "- run Jupyter\n",
    "- connect to the server via a web browser\n"
   ]
  },
  {
   "cell_type": "markdown",
   "metadata": {},
   "source": [
    "<div class=\"alert alert-block alert-info\"> <b>Note: </b>We will hop on the VNC Desktop to show you how you can do that here </div>"
   ]
  },
  {
   "cell_type": "markdown",
   "metadata": {},
   "source": [
    "You can find extensive documentation in the [**OSCAR Docs**](https://docs.ccv.brown.edu/oscar/connecting-to-oscar/vnc) on how to connect to the VNC Desktop"
   ]
  },
  {
   "cell_type": "markdown",
   "metadata": {},
   "source": [
    "- **Pros:** Connect to a desktop environment \n",
    "- **Cons:** \n",
    " - Connection might be slow, slower response rates.\n",
    " - you are limited to the resources  allocated to the VNC desktop"
   ]
  },
  {
   "cell_type": "markdown",
   "metadata": {},
   "source": [
    "### Advanced usage \n",
    "Connect to the Jupyter notebook via SSH tunneling. This is basically done via \n",
    "- First setting up a SSH tunnel to comnpute node accessed either via a Batch Job or an interactive job\n",
    "- Then setting up a tunnel from your machine to the OSCAR gateway\n",
    "\n",
    "This is really well documented on the [**CCV Docs page**](https://docs.ccv.brown.edu/oscar/jupyter-notebooks/jupyter-notebooks-on-oscar-1#using-a-batch-job)"
   ]
  },
  {
   "cell_type": "markdown",
   "metadata": {},
   "source": [
    "- Batch Mode\n",
    " - Create a Batch Script\n",
    "\n",
    "```\n",
    "#!/bin/bash\n",
    "#SBATCH --nodes 1\n",
    "#SBATCH -c 6\n",
    "#SBATCH --time 04:00:00\n",
    "#SBATCH --mem-per-cpu 3G\n",
    "#SBATCH --job-name tunnel\n",
    "#SBATCH --output jupyter-log-%J.txt\n",
    "## get tunneling info\n",
    "XDG_RUNTIME_DIR=\"\"\n",
    "ipnport=$(shuf -i8000-9999 -n1)\n",
    "ipnip=$(hostname -i)\n",
    "## print tunneling instructions to jupyter-log-{jobid}.txt\n",
    "echo -e \"\n",
    "    Copy/Paste this in your local terminal to ssh tunnel with remote\n",
    "    -----------------------------------------------------------------\n",
    "    ssh -N -L $ipnport:$ipnip:$ipnport $USER@ssh.ccv.brown.edu\n",
    "    -----------------------------------------------------------------\n",
    "    Then open a browser on your local machine to the following address\n",
    "    ------------------------------------------------------------------\n",
    "    localhost:$ipnport  (prefix w/ https:// if using password)\n",
    "    ------------------------------------------------------------------\n",
    "    \"\n",
    "## start an ipcluster instance and launch jupyter server\n",
    "module load anaconda/3-5.2.0\n",
    "jupyter-notebook --no-browser --port=$ipnport --ip=$ipnip\n",
    "```\n",
    " - Create a local tunnel \n",
    " \n",
    " ```\n",
    "  ssh -N -L $ipnport:$ipnip:$ipnport user@ssh.ccv.brown.edu\n",
    " ```\n",
    " - You can find the details in the `jupyter-log-jobid.txt` file\n",
    " \n",
    " - Connect via localhost"
   ]
  },
  {
   "cell_type": "markdown",
   "metadata": {},
   "source": [
    "<div class=\"alert alert-block alert-info\">\n",
    "    <b> Note:</b> We will walk through this \n",
    "    </div>"
   ]
  },
  {
   "cell_type": "markdown",
   "metadata": {},
   "source": [
    "## Coding via remote connection through an IDE\n",
    "\n",
    "Some iDE's/ Editors provide a mechanism for connecting remotely to ssh servers. We will demostrate a couple of those here including \n",
    "- Emacs\n",
    "- Sublime text\n",
    "\n",
    "You can also find documentation for using VSCODE in the [**CCV Docs**](https://docs.ccv.brown.edu/oscar/connecting-to-oscar/remote-ide)"
   ]
  },
  {
   "cell_type": "markdown",
   "metadata": {},
   "source": [
    "<div class=\"alert alert-block alert-info\">\n",
    "    <b> Note:</b> We will walk through this \n",
    "    </div>"
   ]
  }
 ],
 "metadata": {
  "kernelspec": {
   "display_name": "Python 3",
   "language": "python",
   "name": "python3"
  },
  "language_info": {
   "codemirror_mode": {
    "name": "ipython",
    "version": 3
   },
   "file_extension": ".py",
   "mimetype": "text/x-python",
   "name": "python",
   "nbconvert_exporter": "python",
   "pygments_lexer": "ipython3",
   "version": "3.8.5"
  },
  "toc": {
   "base_numbering": 1,
   "nav_menu": {},
   "number_sections": true,
   "sideBar": true,
   "skip_h1_title": true,
   "title_cell": "Table of Contents",
   "title_sidebar": "Contents",
   "toc_cell": true,
   "toc_position": {},
   "toc_section_display": true,
   "toc_window_display": true
  }
 },
 "nbformat": 4,
 "nbformat_minor": 4
}
